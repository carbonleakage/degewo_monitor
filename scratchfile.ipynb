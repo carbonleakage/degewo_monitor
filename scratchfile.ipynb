{
 "cells": [
  {
   "cell_type": "code",
   "execution_count": 1,
   "id": "commercial-return",
   "metadata": {
    "execution": {
     "iopub.execute_input": "2021-11-10T00:30:09.783279Z",
     "iopub.status.busy": "2021-11-10T00:30:09.781222Z",
     "iopub.status.idle": "2021-11-10T00:30:10.973465Z",
     "shell.execute_reply": "2021-11-10T00:30:10.974854Z"
    },
    "papermill": {
     "duration": 1.272073,
     "end_time": "2021-11-10T00:30:10.975535",
     "exception": false,
     "start_time": "2021-11-10T00:30:09.703462",
     "status": "completed"
    },
    "tags": []
   },
   "outputs": [],
   "source": [
    "import pandas as pd"
   ]
  },
  {
   "cell_type": "code",
   "execution_count": 2,
   "id": "dietary-notebook",
   "metadata": {
    "execution": {
     "iopub.execute_input": "2021-11-10T00:30:11.098646Z",
     "iopub.status.busy": "2021-11-10T00:30:11.096379Z",
     "iopub.status.idle": "2021-11-10T00:30:11.248179Z",
     "shell.execute_reply": "2021-11-10T00:30:11.249949Z"
    },
    "papermill": {
     "duration": 0.218979,
     "end_time": "2021-11-10T00:30:11.250450",
     "exception": false,
     "start_time": "2021-11-10T00:30:11.031471",
     "status": "completed"
    },
    "tags": []
   },
   "outputs": [],
   "source": [
    "df = pd.read_parquet(\"extract.parquet.gzip\")"
   ]
  },
  {
   "cell_type": "code",
   "execution_count": 3,
   "id": "municipal-accreditation",
   "metadata": {
    "execution": {
     "iopub.execute_input": "2021-11-10T00:30:11.412417Z",
     "iopub.status.busy": "2021-11-10T00:30:11.410134Z",
     "iopub.status.idle": "2021-11-10T00:30:11.423195Z",
     "shell.execute_reply": "2021-11-10T00:30:11.421726Z"
    },
    "papermill": {
     "duration": 0.1153,
     "end_time": "2021-11-10T00:30:11.423602",
     "exception": false,
     "start_time": "2021-11-10T00:30:11.308302",
     "status": "completed"
    },
    "tags": []
   },
   "outputs": [
    {
     "data": {
      "text/plain": [
       "20211031_2106    46\n",
       "20211101_0730     1\n",
       "20211101_0830     1\n",
       "20211101_0900     1\n",
       "20211101_0930     2\n",
       "                 ..\n",
       "20211109_1830     1\n",
       "20211109_1900     2\n",
       "20211109_1930     2\n",
       "20211110_0030     1\n",
       "20211110_0100     2\n",
       "Name: collection_timestamp, Length: 169, dtype: int64"
      ]
     },
     "execution_count": 3,
     "metadata": {},
     "output_type": "execute_result"
    }
   ],
   "source": [
    "df[\"collection_timestamp\"].value_counts().sort_index()"
   ]
  },
  {
   "cell_type": "code",
   "execution_count": 4,
   "id": "specialized-algorithm",
   "metadata": {
    "execution": {
     "iopub.execute_input": "2021-11-10T00:30:11.561803Z",
     "iopub.status.busy": "2021-11-10T00:30:11.559494Z",
     "iopub.status.idle": "2021-11-10T00:30:11.569345Z",
     "shell.execute_reply": "2021-11-10T00:30:11.570897Z"
    },
    "papermill": {
     "duration": 0.08795,
     "end_time": "2021-11-10T00:30:11.571386",
     "exception": false,
     "start_time": "2021-11-10T00:30:11.483436",
     "status": "completed"
    },
    "tags": []
   },
   "outputs": [
    {
     "name": "stderr",
     "output_type": "stream",
     "text": [
      "/tmp/ipykernel_148485/1121883873.py:1: FutureWarning: The default value of regex will change from True to False in a future version. In addition, single character regular expressions will *not* be treated as literal strings when regex=True.\n",
      "  df[\"price_per_sqm\"] =  df[\"rent_total_with_vat\"].str[:-2].str.replace(\".\",\"\").str.replace(\",\",\".\").astype(\"float\")/df[\"living_space\"]\n"
     ]
    }
   ],
   "source": [
    "df[\"price_per_sqm\"] =  df[\"rent_total_with_vat\"].str[:-2].str.replace(\".\",\"\").str.replace(\",\",\".\").astype(\"float\")/df[\"living_space\"]"
   ]
  },
  {
   "cell_type": "code",
   "execution_count": 5,
   "id": "powerful-coral",
   "metadata": {
    "execution": {
     "iopub.execute_input": "2021-11-10T00:30:11.742985Z",
     "iopub.status.busy": "2021-11-10T00:30:11.731853Z",
     "iopub.status.idle": "2021-11-10T00:30:11.751309Z",
     "shell.execute_reply": "2021-11-10T00:30:11.752647Z"
    },
    "papermill": {
     "duration": 0.120847,
     "end_time": "2021-11-10T00:30:11.753176",
     "exception": false,
     "start_time": "2021-11-10T00:30:11.632329",
     "status": "completed"
    },
    "tags": []
   },
   "outputs": [
    {
     "data": {
      "text/plain": [
       "Marzahn-Hellersdorf     42\n",
       "Neukölln                 9\n",
       "Steglitz-Zehlendorf      8\n",
       "Umland                   3\n",
       "Tempelhof-Schöneberg     2\n",
       "Mitte                    2\n",
       "Name: neighborhood.district, dtype: int64"
      ]
     },
     "execution_count": 5,
     "metadata": {},
     "output_type": "execute_result"
    }
   ],
   "source": [
    "df.query(\"(wbs_required == False) & (living_space > 70)\")[\"neighborhood.district\"].value_counts()"
   ]
  },
  {
   "cell_type": "code",
   "execution_count": 6,
   "id": "0c8bd5fd",
   "metadata": {
    "execution": {
     "iopub.execute_input": "2021-11-10T00:30:11.930732Z",
     "iopub.status.busy": "2021-11-10T00:30:11.917774Z",
     "iopub.status.idle": "2021-11-10T00:30:11.981490Z",
     "shell.execute_reply": "2021-11-10T00:30:11.983063Z"
    },
    "papermill": {
     "duration": 0.168425,
     "end_time": "2021-11-10T00:30:11.983544",
     "exception": false,
     "start_time": "2021-11-10T00:30:11.815119",
     "status": "completed"
    },
    "tags": []
   },
   "outputs": [
    {
     "data": {
      "text/html": [
       "<div>\n",
       "<style scoped>\n",
       "    .dataframe tbody tr th:only-of-type {\n",
       "        vertical-align: middle;\n",
       "    }\n",
       "\n",
       "    .dataframe tbody tr th {\n",
       "        vertical-align: top;\n",
       "    }\n",
       "\n",
       "    .dataframe thead th {\n",
       "        text-align: right;\n",
       "    }\n",
       "</style>\n",
       "<table border=\"1\" class=\"dataframe\">\n",
       "  <thead>\n",
       "    <tr style=\"text-align: right;\">\n",
       "      <th></th>\n",
       "      <th>collection_timestamp</th>\n",
       "      <th>neighborhood.district</th>\n",
       "      <th>headline</th>\n",
       "      <th>number_of_rooms</th>\n",
       "      <th>living_space</th>\n",
       "      <th>full_address</th>\n",
       "      <th>rent_total_with_vat</th>\n",
       "      <th>price_per_sqm</th>\n",
       "    </tr>\n",
       "  </thead>\n",
       "  <tbody>\n",
       "    <tr>\n",
       "      <th>26</th>\n",
       "      <td>20211031_2106</td>\n",
       "      <td>Tempelhof-Schöneberg</td>\n",
       "      <td>Schöne 3-Zimmer Wohnung sucht Familie!</td>\n",
       "      <td>3 Zimmer</td>\n",
       "      <td>75.72</td>\n",
       "      <td>Pechsteinstraße 64 | 12309 Berlin</td>\n",
       "      <td>655,73 €</td>\n",
       "      <td>8.659931</td>\n",
       "    </tr>\n",
       "    <tr>\n",
       "      <th>32</th>\n",
       "      <td>20211031_2106</td>\n",
       "      <td>Marzahn-Hellersdorf</td>\n",
       "      <td>Erstbezug Neubau - Wohnung ausschließlich für ...</td>\n",
       "      <td>3 Zimmer</td>\n",
       "      <td>71.72</td>\n",
       "      <td>Ludwig-Renn-Straße 56 | 12679 Berlin</td>\n",
       "      <td>742,03 €</td>\n",
       "      <td>10.346207</td>\n",
       "    </tr>\n",
       "    <tr>\n",
       "      <th>33</th>\n",
       "      <td>20211031_2106</td>\n",
       "      <td>Marzahn-Hellersdorf</td>\n",
       "      <td>Erstbezug Neubau - Wohnung ausschließlich für ...</td>\n",
       "      <td>3 Zimmer</td>\n",
       "      <td>76.07</td>\n",
       "      <td>Ludwig-Renn-Straße 56 | 12679 Berlin</td>\n",
       "      <td>750,00 €</td>\n",
       "      <td>9.859340</td>\n",
       "    </tr>\n",
       "    <tr>\n",
       "      <th>41</th>\n",
       "      <td>20211031_2106</td>\n",
       "      <td>Steglitz-Zehlendorf</td>\n",
       "      <td>Großzügige 3-Zimmer-Wohnung im Erstbezug</td>\n",
       "      <td>3 Zimmer</td>\n",
       "      <td>84.49</td>\n",
       "      <td>Retzowstraße 54E | 12249 Berlin</td>\n",
       "      <td>1.056,13 €</td>\n",
       "      <td>12.500059</td>\n",
       "    </tr>\n",
       "    <tr>\n",
       "      <th>42</th>\n",
       "      <td>20211031_2106</td>\n",
       "      <td>Tempelhof-Schöneberg</td>\n",
       "      <td>Schöne Wohnung sucht Studenten-WG!</td>\n",
       "      <td>3 Zimmer</td>\n",
       "      <td>102.11</td>\n",
       "      <td>Dominicusstraße 39 | 10827 Berlin</td>\n",
       "      <td>1.074,52 €</td>\n",
       "      <td>10.523161</td>\n",
       "    </tr>\n",
       "    <tr>\n",
       "      <th>...</th>\n",
       "      <td>...</td>\n",
       "      <td>...</td>\n",
       "      <td>...</td>\n",
       "      <td>...</td>\n",
       "      <td>...</td>\n",
       "      <td>...</td>\n",
       "      <td>...</td>\n",
       "      <td>...</td>\n",
       "    </tr>\n",
       "    <tr>\n",
       "      <th>376</th>\n",
       "      <td>20211109_1430</td>\n",
       "      <td>Neukölln</td>\n",
       "      <td>Erstbezug Neubau</td>\n",
       "      <td>4 Zimmer</td>\n",
       "      <td>86.68</td>\n",
       "      <td>Theodor-Loos-Weg 15 | 12353 Berlin</td>\n",
       "      <td>1.213,52 €</td>\n",
       "      <td>14.000000</td>\n",
       "    </tr>\n",
       "    <tr>\n",
       "      <th>377</th>\n",
       "      <td>20211109_1430</td>\n",
       "      <td>Neukölln</td>\n",
       "      <td>Erstbezug Neubau</td>\n",
       "      <td>5 Zimmer</td>\n",
       "      <td>104.02</td>\n",
       "      <td>Theodor-Loos-Weg 15 | 12353 Berlin</td>\n",
       "      <td>1.352,26 €</td>\n",
       "      <td>13.000000</td>\n",
       "    </tr>\n",
       "    <tr>\n",
       "      <th>379</th>\n",
       "      <td>20211109_1530</td>\n",
       "      <td>Steglitz-Zehlendorf</td>\n",
       "      <td>Großzügige Familienwohnung in Lankwitz - Erstb...</td>\n",
       "      <td>5 Zimmer</td>\n",
       "      <td>126.37</td>\n",
       "      <td>Retzowstraße 54A | 12249 Berlin</td>\n",
       "      <td>1.863,96 €</td>\n",
       "      <td>14.750020</td>\n",
       "    </tr>\n",
       "    <tr>\n",
       "      <th>387</th>\n",
       "      <td>20211110_0100</td>\n",
       "      <td>Neukölln</td>\n",
       "      <td>Erstbezug Neubau</td>\n",
       "      <td>4 Zimmer</td>\n",
       "      <td>86.68</td>\n",
       "      <td>Theodor-Loos-Weg 15 | 12353 Berlin</td>\n",
       "      <td>1.213,52 €</td>\n",
       "      <td>14.000000</td>\n",
       "    </tr>\n",
       "    <tr>\n",
       "      <th>388</th>\n",
       "      <td>20211110_0100</td>\n",
       "      <td>Neukölln</td>\n",
       "      <td>Erstbezug Neubau</td>\n",
       "      <td>5 Zimmer</td>\n",
       "      <td>104.02</td>\n",
       "      <td>Theodor-Loos-Weg 15 | 12353 Berlin</td>\n",
       "      <td>1.352,26 €</td>\n",
       "      <td>13.000000</td>\n",
       "    </tr>\n",
       "  </tbody>\n",
       "</table>\n",
       "<p>66 rows × 8 columns</p>\n",
       "</div>"
      ],
      "text/plain": [
       "    collection_timestamp neighborhood.district  \\\n",
       "26         20211031_2106  Tempelhof-Schöneberg   \n",
       "32         20211031_2106   Marzahn-Hellersdorf   \n",
       "33         20211031_2106   Marzahn-Hellersdorf   \n",
       "41         20211031_2106   Steglitz-Zehlendorf   \n",
       "42         20211031_2106  Tempelhof-Schöneberg   \n",
       "..                   ...                   ...   \n",
       "376        20211109_1430              Neukölln   \n",
       "377        20211109_1430              Neukölln   \n",
       "379        20211109_1530   Steglitz-Zehlendorf   \n",
       "387        20211110_0100              Neukölln   \n",
       "388        20211110_0100              Neukölln   \n",
       "\n",
       "                                              headline number_of_rooms  \\\n",
       "26              Schöne 3-Zimmer Wohnung sucht Familie!        3 Zimmer   \n",
       "32   Erstbezug Neubau - Wohnung ausschließlich für ...        3 Zimmer   \n",
       "33   Erstbezug Neubau - Wohnung ausschließlich für ...        3 Zimmer   \n",
       "41            Großzügige 3-Zimmer-Wohnung im Erstbezug        3 Zimmer   \n",
       "42                  Schöne Wohnung sucht Studenten-WG!        3 Zimmer   \n",
       "..                                                 ...             ...   \n",
       "376                                   Erstbezug Neubau        4 Zimmer   \n",
       "377                                   Erstbezug Neubau        5 Zimmer   \n",
       "379  Großzügige Familienwohnung in Lankwitz - Erstb...        5 Zimmer   \n",
       "387                                   Erstbezug Neubau        4 Zimmer   \n",
       "388                                   Erstbezug Neubau        5 Zimmer   \n",
       "\n",
       "     living_space                          full_address rent_total_with_vat  \\\n",
       "26          75.72     Pechsteinstraße 64 | 12309 Berlin            655,73 €   \n",
       "32          71.72  Ludwig-Renn-Straße 56 | 12679 Berlin            742,03 €   \n",
       "33          76.07  Ludwig-Renn-Straße 56 | 12679 Berlin            750,00 €   \n",
       "41          84.49       Retzowstraße 54E | 12249 Berlin          1.056,13 €   \n",
       "42         102.11     Dominicusstraße 39 | 10827 Berlin          1.074,52 €   \n",
       "..            ...                                   ...                 ...   \n",
       "376         86.68    Theodor-Loos-Weg 15 | 12353 Berlin          1.213,52 €   \n",
       "377        104.02    Theodor-Loos-Weg 15 | 12353 Berlin          1.352,26 €   \n",
       "379        126.37       Retzowstraße 54A | 12249 Berlin          1.863,96 €   \n",
       "387         86.68    Theodor-Loos-Weg 15 | 12353 Berlin          1.213,52 €   \n",
       "388        104.02    Theodor-Loos-Weg 15 | 12353 Berlin          1.352,26 €   \n",
       "\n",
       "     price_per_sqm  \n",
       "26        8.659931  \n",
       "32       10.346207  \n",
       "33        9.859340  \n",
       "41       12.500059  \n",
       "42       10.523161  \n",
       "..             ...  \n",
       "376      14.000000  \n",
       "377      13.000000  \n",
       "379      14.750020  \n",
       "387      14.000000  \n",
       "388      13.000000  \n",
       "\n",
       "[66 rows x 8 columns]"
      ]
     },
     "execution_count": 6,
     "metadata": {},
     "output_type": "execute_result"
    }
   ],
   "source": [
    "df.query(\"(wbs_required == False) & (living_space > 70)\")[[\"collection_timestamp\",\"neighborhood.district\",\"headline\",\"number_of_rooms\",\"living_space\",\"full_address\",\"rent_total_with_vat\",\"price_per_sqm\"]]"
   ]
  },
  {
   "cell_type": "code",
   "execution_count": null,
   "id": "numerous-consumer",
   "metadata": {
    "papermill": {
     "duration": 0.064981,
     "end_time": "2021-11-10T00:30:12.115634",
     "exception": false,
     "start_time": "2021-11-10T00:30:12.050653",
     "status": "completed"
    },
    "tags": []
   },
   "outputs": [],
   "source": []
  }
 ],
 "metadata": {
  "kernelspec": {
   "display_name": "Python 3",
   "language": "python",
   "name": "python3"
  },
  "language_info": {
   "codemirror_mode": {
    "name": "ipython",
    "version": 3
   },
   "file_extension": ".py",
   "mimetype": "text/x-python",
   "name": "python",
   "nbconvert_exporter": "python",
   "pygments_lexer": "ipython3",
   "version": "3.9.5"
  },
  "papermill": {
   "default_parameters": {},
   "duration": 6.855681,
   "end_time": "2021-11-10T00:30:12.803358",
   "environment_variables": {},
   "exception": null,
   "input_path": "scratchfile.ipynb",
   "output_path": "scratchfile.ipynb",
   "parameters": {},
   "start_time": "2021-11-10T00:30:05.947677",
   "version": "2.3.3"
  }
 },
 "nbformat": 4,
 "nbformat_minor": 5
}