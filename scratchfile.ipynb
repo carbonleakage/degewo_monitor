{
 "cells": [
  {
   "cell_type": "code",
   "execution_count": 1,
   "id": "commercial-return",
   "metadata": {
    "execution": {
     "iopub.execute_input": "2021-11-01T18:35:02.839416Z",
     "iopub.status.busy": "2021-11-01T18:35:02.837467Z",
     "iopub.status.idle": "2021-11-01T18:35:03.853379Z",
     "shell.execute_reply": "2021-11-01T18:35:03.851655Z"
    },
    "papermill": {
     "duration": 1.090719,
     "end_time": "2021-11-01T18:35:03.853804",
     "exception": false,
     "start_time": "2021-11-01T18:35:02.763085",
     "status": "completed"
    },
    "tags": []
   },
   "outputs": [],
   "source": [
    "import pandas as pd"
   ]
  },
  {
   "cell_type": "code",
   "execution_count": 2,
   "id": "dietary-notebook",
   "metadata": {
    "execution": {
     "iopub.execute_input": "2021-11-01T18:35:03.951919Z",
     "iopub.status.busy": "2021-11-01T18:35:03.949626Z",
     "iopub.status.idle": "2021-11-01T18:35:04.058153Z",
     "shell.execute_reply": "2021-11-01T18:35:04.059730Z"
    },
    "papermill": {
     "duration": 0.162698,
     "end_time": "2021-11-01T18:35:04.060238",
     "exception": false,
     "start_time": "2021-11-01T18:35:03.897540",
     "status": "completed"
    },
    "tags": []
   },
   "outputs": [],
   "source": [
    "df = pd.read_parquet(\"extract.parquet.gzip\")"
   ]
  },
  {
   "cell_type": "code",
   "execution_count": 3,
   "id": "municipal-accreditation",
   "metadata": {
    "execution": {
     "iopub.execute_input": "2021-11-01T18:35:04.183415Z",
     "iopub.status.busy": "2021-11-01T18:35:04.181397Z",
     "iopub.status.idle": "2021-11-01T18:35:04.189952Z",
     "shell.execute_reply": "2021-11-01T18:35:04.191158Z"
    },
    "papermill": {
     "duration": 0.084819,
     "end_time": "2021-11-01T18:35:04.191565",
     "exception": false,
     "start_time": "2021-11-01T18:35:04.106746",
     "status": "completed"
    },
    "tags": []
   },
   "outputs": [
    {
     "data": {
      "text/plain": [
       "20211031_2106    46\n",
       "20211101_1030     3\n",
       "20211101_1100     3\n",
       "20211101_1300     3\n",
       "20211101_1330     3\n",
       "20211101_1800     3\n",
       "20211101_0930     2\n",
       "20211101_1000     2\n",
       "20211101_1130     2\n",
       "20211101_1200     2\n",
       "20211101_1400     2\n",
       "20211101_1500     2\n",
       "20211101_0730     1\n",
       "20211101_0830     1\n",
       "20211101_0900     1\n",
       "20211101_1830     1\n",
       "Name: collection_timestamp, dtype: int64"
      ]
     },
     "execution_count": 3,
     "metadata": {},
     "output_type": "execute_result"
    }
   ],
   "source": [
    "df[\"collection_timestamp\"].value_counts()"
   ]
  },
  {
   "cell_type": "code",
   "execution_count": 4,
   "id": "specialized-algorithm",
   "metadata": {
    "execution": {
     "iopub.execute_input": "2021-11-01T18:35:04.301376Z",
     "iopub.status.busy": "2021-11-01T18:35:04.299214Z",
     "iopub.status.idle": "2021-11-01T18:35:04.306885Z",
     "shell.execute_reply": "2021-11-01T18:35:04.308164Z"
    },
    "papermill": {
     "duration": 0.072276,
     "end_time": "2021-11-01T18:35:04.308588",
     "exception": false,
     "start_time": "2021-11-01T18:35:04.236312",
     "status": "completed"
    },
    "tags": []
   },
   "outputs": [
    {
     "name": "stderr",
     "output_type": "stream",
     "text": [
      "/tmp/ipykernel_93359/1121883873.py:1: FutureWarning: The default value of regex will change from True to False in a future version. In addition, single character regular expressions will *not* be treated as literal strings when regex=True.\n",
      "  df[\"price_per_sqm\"] =  df[\"rent_total_with_vat\"].str[:-2].str.replace(\".\",\"\").str.replace(\",\",\".\").astype(\"float\")/df[\"living_space\"]\n"
     ]
    }
   ],
   "source": [
    "df[\"price_per_sqm\"] =  df[\"rent_total_with_vat\"].str[:-2].str.replace(\".\",\"\").str.replace(\",\",\".\").astype(\"float\")/df[\"living_space\"]"
   ]
  },
  {
   "cell_type": "code",
   "execution_count": 5,
   "id": "powerful-coral",
   "metadata": {
    "execution": {
     "iopub.execute_input": "2021-11-01T18:35:04.442969Z",
     "iopub.status.busy": "2021-11-01T18:35:04.433777Z",
     "iopub.status.idle": "2021-11-01T18:35:04.480976Z",
     "shell.execute_reply": "2021-11-01T18:35:04.482204Z"
    },
    "papermill": {
     "duration": 0.128212,
     "end_time": "2021-11-01T18:35:04.482608",
     "exception": false,
     "start_time": "2021-11-01T18:35:04.354396",
     "status": "completed"
    },
    "tags": []
   },
   "outputs": [
    {
     "data": {
      "text/html": [
       "<div>\n",
       "<style scoped>\n",
       "    .dataframe tbody tr th:only-of-type {\n",
       "        vertical-align: middle;\n",
       "    }\n",
       "\n",
       "    .dataframe tbody tr th {\n",
       "        vertical-align: top;\n",
       "    }\n",
       "\n",
       "    .dataframe thead th {\n",
       "        text-align: right;\n",
       "    }\n",
       "</style>\n",
       "<table border=\"1\" class=\"dataframe\">\n",
       "  <thead>\n",
       "    <tr style=\"text-align: right;\">\n",
       "      <th></th>\n",
       "      <th>neighborhood.district</th>\n",
       "      <th>headline</th>\n",
       "      <th>number_of_rooms</th>\n",
       "      <th>living_space</th>\n",
       "      <th>full_address</th>\n",
       "      <th>rent_total_with_vat</th>\n",
       "      <th>price_per_sqm</th>\n",
       "    </tr>\n",
       "  </thead>\n",
       "  <tbody>\n",
       "    <tr>\n",
       "      <th>26</th>\n",
       "      <td>Tempelhof-Schöneberg</td>\n",
       "      <td>Schöne 3-Zimmer Wohnung sucht Familie!</td>\n",
       "      <td>3 Zimmer</td>\n",
       "      <td>75.72</td>\n",
       "      <td>Pechsteinstraße 64 | 12309 Berlin</td>\n",
       "      <td>655,73 €</td>\n",
       "      <td>8.659931</td>\n",
       "    </tr>\n",
       "    <tr>\n",
       "      <th>32</th>\n",
       "      <td>Marzahn-Hellersdorf</td>\n",
       "      <td>Erstbezug Neubau - Wohnung ausschließlich für ...</td>\n",
       "      <td>3 Zimmer</td>\n",
       "      <td>71.72</td>\n",
       "      <td>Ludwig-Renn-Straße 56 | 12679 Berlin</td>\n",
       "      <td>742,03 €</td>\n",
       "      <td>10.346207</td>\n",
       "    </tr>\n",
       "    <tr>\n",
       "      <th>33</th>\n",
       "      <td>Marzahn-Hellersdorf</td>\n",
       "      <td>Erstbezug Neubau - Wohnung ausschließlich für ...</td>\n",
       "      <td>3 Zimmer</td>\n",
       "      <td>76.07</td>\n",
       "      <td>Ludwig-Renn-Straße 56 | 12679 Berlin</td>\n",
       "      <td>750,00 €</td>\n",
       "      <td>9.859340</td>\n",
       "    </tr>\n",
       "    <tr>\n",
       "      <th>41</th>\n",
       "      <td>Steglitz-Zehlendorf</td>\n",
       "      <td>Großzügige 3-Zimmer-Wohnung im Erstbezug</td>\n",
       "      <td>3 Zimmer</td>\n",
       "      <td>84.49</td>\n",
       "      <td>Retzowstraße 54E | 12249 Berlin</td>\n",
       "      <td>1.056,13 €</td>\n",
       "      <td>12.500059</td>\n",
       "    </tr>\n",
       "    <tr>\n",
       "      <th>42</th>\n",
       "      <td>Tempelhof-Schöneberg</td>\n",
       "      <td>Schöne Wohnung sucht Studenten-WG!</td>\n",
       "      <td>3 Zimmer</td>\n",
       "      <td>102.11</td>\n",
       "      <td>Dominicusstraße 39 | 10827 Berlin</td>\n",
       "      <td>1.074,52 €</td>\n",
       "      <td>10.523161</td>\n",
       "    </tr>\n",
       "    <tr>\n",
       "      <th>43</th>\n",
       "      <td>Steglitz-Zehlendorf</td>\n",
       "      <td>Familienwohnung - Erstbezug</td>\n",
       "      <td>4 Zimmer</td>\n",
       "      <td>96.60</td>\n",
       "      <td>Retzowstraße 54D | 12249 Berlin</td>\n",
       "      <td>1.207,50 €</td>\n",
       "      <td>12.500000</td>\n",
       "    </tr>\n",
       "    <tr>\n",
       "      <th>44</th>\n",
       "      <td>Steglitz-Zehlendorf</td>\n",
       "      <td>Großzügige 3 Zimmer-Wohnung im Neubau</td>\n",
       "      <td>3 Zimmer</td>\n",
       "      <td>84.35</td>\n",
       "      <td>Retzowstraße 54A | 12249 Berlin</td>\n",
       "      <td>1.223,08 €</td>\n",
       "      <td>14.500059</td>\n",
       "    </tr>\n",
       "    <tr>\n",
       "      <th>58</th>\n",
       "      <td>Marzahn-Hellersdorf</td>\n",
       "      <td>Erstbezug Neubau - Wohnung ausschließlich für ...</td>\n",
       "      <td>3 Zimmer</td>\n",
       "      <td>71.72</td>\n",
       "      <td>Ludwig-Renn-Straße 56 | 12679 Berlin</td>\n",
       "      <td>742,03 €</td>\n",
       "      <td>10.346207</td>\n",
       "    </tr>\n",
       "    <tr>\n",
       "      <th>60</th>\n",
       "      <td>Marzahn-Hellersdorf</td>\n",
       "      <td>Erstbezug Neubau - Wohnung ausschließlich für ...</td>\n",
       "      <td>3 Zimmer</td>\n",
       "      <td>76.07</td>\n",
       "      <td>Ludwig-Renn-Straße 56 | 12679 Berlin</td>\n",
       "      <td>750,00 €</td>\n",
       "      <td>9.859340</td>\n",
       "    </tr>\n",
       "    <tr>\n",
       "      <th>70</th>\n",
       "      <td>Umland</td>\n",
       "      <td>Schöne 3 Zimmer Wohnung mit Einbauküche</td>\n",
       "      <td>3 Zimmer</td>\n",
       "      <td>76.60</td>\n",
       "      <td>Falkenstraße 5 | 14612 Falkensee</td>\n",
       "      <td>858,75 €</td>\n",
       "      <td>11.210836</td>\n",
       "    </tr>\n",
       "  </tbody>\n",
       "</table>\n",
       "</div>"
      ],
      "text/plain": [
       "   neighborhood.district                                           headline  \\\n",
       "26  Tempelhof-Schöneberg             Schöne 3-Zimmer Wohnung sucht Familie!   \n",
       "32   Marzahn-Hellersdorf  Erstbezug Neubau - Wohnung ausschließlich für ...   \n",
       "33   Marzahn-Hellersdorf  Erstbezug Neubau - Wohnung ausschließlich für ...   \n",
       "41   Steglitz-Zehlendorf           Großzügige 3-Zimmer-Wohnung im Erstbezug   \n",
       "42  Tempelhof-Schöneberg                 Schöne Wohnung sucht Studenten-WG!   \n",
       "43   Steglitz-Zehlendorf                        Familienwohnung - Erstbezug   \n",
       "44   Steglitz-Zehlendorf              Großzügige 3 Zimmer-Wohnung im Neubau   \n",
       "58   Marzahn-Hellersdorf  Erstbezug Neubau - Wohnung ausschließlich für ...   \n",
       "60   Marzahn-Hellersdorf  Erstbezug Neubau - Wohnung ausschließlich für ...   \n",
       "70                Umland            Schöne 3 Zimmer Wohnung mit Einbauküche   \n",
       "\n",
       "   number_of_rooms  living_space                          full_address  \\\n",
       "26        3 Zimmer         75.72     Pechsteinstraße 64 | 12309 Berlin   \n",
       "32        3 Zimmer         71.72  Ludwig-Renn-Straße 56 | 12679 Berlin   \n",
       "33        3 Zimmer         76.07  Ludwig-Renn-Straße 56 | 12679 Berlin   \n",
       "41        3 Zimmer         84.49       Retzowstraße 54E | 12249 Berlin   \n",
       "42        3 Zimmer        102.11     Dominicusstraße 39 | 10827 Berlin   \n",
       "43        4 Zimmer         96.60       Retzowstraße 54D | 12249 Berlin   \n",
       "44        3 Zimmer         84.35       Retzowstraße 54A | 12249 Berlin   \n",
       "58        3 Zimmer         71.72  Ludwig-Renn-Straße 56 | 12679 Berlin   \n",
       "60        3 Zimmer         76.07  Ludwig-Renn-Straße 56 | 12679 Berlin   \n",
       "70        3 Zimmer         76.60      Falkenstraße 5 | 14612 Falkensee   \n",
       "\n",
       "   rent_total_with_vat  price_per_sqm  \n",
       "26            655,73 €       8.659931  \n",
       "32            742,03 €      10.346207  \n",
       "33            750,00 €       9.859340  \n",
       "41          1.056,13 €      12.500059  \n",
       "42          1.074,52 €      10.523161  \n",
       "43          1.207,50 €      12.500000  \n",
       "44          1.223,08 €      14.500059  \n",
       "58            742,03 €      10.346207  \n",
       "60            750,00 €       9.859340  \n",
       "70            858,75 €      11.210836  "
      ]
     },
     "execution_count": 5,
     "metadata": {},
     "output_type": "execute_result"
    }
   ],
   "source": [
    "df.query(\"(wbs_required == False) & (living_space > 70)\")[[\"neighborhood.district\",\"headline\",\"number_of_rooms\",\"living_space\",\"full_address\",\"rent_total_with_vat\",\"price_per_sqm\"]]"
   ]
  },
  {
   "cell_type": "code",
   "execution_count": null,
   "id": "numerous-consumer",
   "metadata": {
    "papermill": {
     "duration": 0.047559,
     "end_time": "2021-11-01T18:35:04.579565",
     "exception": false,
     "start_time": "2021-11-01T18:35:04.532006",
     "status": "completed"
    },
    "tags": []
   },
   "outputs": [],
   "source": []
  }
 ],
 "metadata": {
  "kernelspec": {
   "display_name": "Python 3",
   "language": "python",
   "name": "python3"
  },
  "language_info": {
   "codemirror_mode": {
    "name": "ipython",
    "version": 3
   },
   "file_extension": ".py",
   "mimetype": "text/x-python",
   "name": "python",
   "nbconvert_exporter": "python",
   "pygments_lexer": "ipython3",
   "version": "3.9.5"
  },
  "papermill": {
   "default_parameters": {},
   "duration": 5.841095,
   "end_time": "2021-11-01T18:35:05.249644",
   "environment_variables": {},
   "exception": null,
   "input_path": "scratchfile.ipynb",
   "output_path": "scratchfile.ipynb",
   "parameters": {},
   "start_time": "2021-11-01T18:34:59.408549",
   "version": "2.3.3"
  }
 },
 "nbformat": 4,
 "nbformat_minor": 5
}