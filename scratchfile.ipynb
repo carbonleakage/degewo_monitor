{
 "cells": [
  {
   "cell_type": "code",
   "execution_count": 1,
   "id": "commercial-return",
   "metadata": {
    "execution": {
     "iopub.execute_input": "2021-11-01T21:30:09.800756Z",
     "iopub.status.busy": "2021-11-01T21:30:09.798544Z",
     "iopub.status.idle": "2021-11-01T21:30:10.935813Z",
     "shell.execute_reply": "2021-11-01T21:30:10.937193Z"
    },
    "papermill": {
     "duration": 1.210693,
     "end_time": "2021-11-01T21:30:10.937847",
     "exception": false,
     "start_time": "2021-11-01T21:30:09.727154",
     "status": "completed"
    },
    "tags": []
   },
   "outputs": [],
   "source": [
    "import pandas as pd"
   ]
  },
  {
   "cell_type": "code",
   "execution_count": 2,
   "id": "dietary-notebook",
   "metadata": {
    "execution": {
     "iopub.execute_input": "2021-11-01T21:30:11.075493Z",
     "iopub.status.busy": "2021-11-01T21:30:11.073124Z",
     "iopub.status.idle": "2021-11-01T21:30:11.188761Z",
     "shell.execute_reply": "2021-11-01T21:30:11.190229Z"
    },
    "papermill": {
     "duration": 0.177132,
     "end_time": "2021-11-01T21:30:11.190708",
     "exception": false,
     "start_time": "2021-11-01T21:30:11.013576",
     "status": "completed"
    },
    "tags": []
   },
   "outputs": [],
   "source": [
    "df = pd.read_parquet(\"extract.parquet.gzip\")"
   ]
  },
  {
   "cell_type": "code",
   "execution_count": 3,
   "id": "municipal-accreditation",
   "metadata": {
    "execution": {
     "iopub.execute_input": "2021-11-01T21:30:11.332279Z",
     "iopub.status.busy": "2021-11-01T21:30:11.321444Z",
     "iopub.status.idle": "2021-11-01T21:30:11.341188Z",
     "shell.execute_reply": "2021-11-01T21:30:11.343067Z"
    },
    "papermill": {
     "duration": 0.104387,
     "end_time": "2021-11-01T21:30:11.343557",
     "exception": false,
     "start_time": "2021-11-01T21:30:11.239170",
     "status": "completed"
    },
    "tags": []
   },
   "outputs": [
    {
     "data": {
      "text/plain": [
       "20211031_2106    46\n",
       "20211101_0730     1\n",
       "20211101_0830     1\n",
       "20211101_0900     1\n",
       "20211101_0930     2\n",
       "20211101_1000     2\n",
       "20211101_1030     3\n",
       "20211101_1100     3\n",
       "20211101_1130     2\n",
       "20211101_1200     2\n",
       "20211101_1300     3\n",
       "20211101_1330     3\n",
       "20211101_1400     2\n",
       "20211101_1500     2\n",
       "20211101_1800     3\n",
       "20211101_1830     1\n",
       "20211101_2130     1\n",
       "20211101_2200     3\n",
       "Name: collection_timestamp, dtype: int64"
      ]
     },
     "execution_count": 3,
     "metadata": {},
     "output_type": "execute_result"
    }
   ],
   "source": [
    "df[\"collection_timestamp\"].value_counts().sort_index()"
   ]
  },
  {
   "cell_type": "code",
   "execution_count": 4,
   "id": "specialized-algorithm",
   "metadata": {
    "execution": {
     "iopub.execute_input": "2021-11-01T21:30:11.477109Z",
     "iopub.status.busy": "2021-11-01T21:30:11.474260Z",
     "iopub.status.idle": "2021-11-01T21:30:11.483178Z",
     "shell.execute_reply": "2021-11-01T21:30:11.484571Z"
    },
    "papermill": {
     "duration": 0.086703,
     "end_time": "2021-11-01T21:30:11.485081",
     "exception": false,
     "start_time": "2021-11-01T21:30:11.398378",
     "status": "completed"
    },
    "tags": []
   },
   "outputs": [
    {
     "name": "stderr",
     "output_type": "stream",
     "text": [
      "/tmp/ipykernel_94202/1121883873.py:1: FutureWarning: The default value of regex will change from True to False in a future version. In addition, single character regular expressions will *not* be treated as literal strings when regex=True.\n",
      "  df[\"price_per_sqm\"] =  df[\"rent_total_with_vat\"].str[:-2].str.replace(\".\",\"\").str.replace(\",\",\".\").astype(\"float\")/df[\"living_space\"]\n"
     ]
    }
   ],
   "source": [
    "df[\"price_per_sqm\"] =  df[\"rent_total_with_vat\"].str[:-2].str.replace(\".\",\"\").str.replace(\",\",\".\").astype(\"float\")/df[\"living_space\"]"
   ]
  },
  {
   "cell_type": "code",
   "execution_count": 5,
   "id": "powerful-coral",
   "metadata": {
    "execution": {
     "iopub.execute_input": "2021-11-01T21:30:11.638260Z",
     "iopub.status.busy": "2021-11-01T21:30:11.630184Z",
     "iopub.status.idle": "2021-11-01T21:30:11.685387Z",
     "shell.execute_reply": "2021-11-01T21:30:11.686937Z"
    },
    "papermill": {
     "duration": 0.14948,
     "end_time": "2021-11-01T21:30:11.687425",
     "exception": false,
     "start_time": "2021-11-01T21:30:11.537945",
     "status": "completed"
    },
    "tags": []
   },
   "outputs": [
    {
     "data": {
      "text/html": [
       "<div>\n",
       "<style scoped>\n",
       "    .dataframe tbody tr th:only-of-type {\n",
       "        vertical-align: middle;\n",
       "    }\n",
       "\n",
       "    .dataframe tbody tr th {\n",
       "        vertical-align: top;\n",
       "    }\n",
       "\n",
       "    .dataframe thead th {\n",
       "        text-align: right;\n",
       "    }\n",
       "</style>\n",
       "<table border=\"1\" class=\"dataframe\">\n",
       "  <thead>\n",
       "    <tr style=\"text-align: right;\">\n",
       "      <th></th>\n",
       "      <th>collection_timestamp</th>\n",
       "      <th>neighborhood.district</th>\n",
       "      <th>headline</th>\n",
       "      <th>number_of_rooms</th>\n",
       "      <th>living_space</th>\n",
       "      <th>full_address</th>\n",
       "      <th>rent_total_with_vat</th>\n",
       "      <th>price_per_sqm</th>\n",
       "    </tr>\n",
       "  </thead>\n",
       "  <tbody>\n",
       "    <tr>\n",
       "      <th>26</th>\n",
       "      <td>20211031_2106</td>\n",
       "      <td>Tempelhof-Schöneberg</td>\n",
       "      <td>Schöne 3-Zimmer Wohnung sucht Familie!</td>\n",
       "      <td>3 Zimmer</td>\n",
       "      <td>75.72</td>\n",
       "      <td>Pechsteinstraße 64 | 12309 Berlin</td>\n",
       "      <td>655,73 €</td>\n",
       "      <td>8.659931</td>\n",
       "    </tr>\n",
       "    <tr>\n",
       "      <th>32</th>\n",
       "      <td>20211031_2106</td>\n",
       "      <td>Marzahn-Hellersdorf</td>\n",
       "      <td>Erstbezug Neubau - Wohnung ausschließlich für ...</td>\n",
       "      <td>3 Zimmer</td>\n",
       "      <td>71.72</td>\n",
       "      <td>Ludwig-Renn-Straße 56 | 12679 Berlin</td>\n",
       "      <td>742,03 €</td>\n",
       "      <td>10.346207</td>\n",
       "    </tr>\n",
       "    <tr>\n",
       "      <th>33</th>\n",
       "      <td>20211031_2106</td>\n",
       "      <td>Marzahn-Hellersdorf</td>\n",
       "      <td>Erstbezug Neubau - Wohnung ausschließlich für ...</td>\n",
       "      <td>3 Zimmer</td>\n",
       "      <td>76.07</td>\n",
       "      <td>Ludwig-Renn-Straße 56 | 12679 Berlin</td>\n",
       "      <td>750,00 €</td>\n",
       "      <td>9.859340</td>\n",
       "    </tr>\n",
       "    <tr>\n",
       "      <th>41</th>\n",
       "      <td>20211031_2106</td>\n",
       "      <td>Steglitz-Zehlendorf</td>\n",
       "      <td>Großzügige 3-Zimmer-Wohnung im Erstbezug</td>\n",
       "      <td>3 Zimmer</td>\n",
       "      <td>84.49</td>\n",
       "      <td>Retzowstraße 54E | 12249 Berlin</td>\n",
       "      <td>1.056,13 €</td>\n",
       "      <td>12.500059</td>\n",
       "    </tr>\n",
       "    <tr>\n",
       "      <th>42</th>\n",
       "      <td>20211031_2106</td>\n",
       "      <td>Tempelhof-Schöneberg</td>\n",
       "      <td>Schöne Wohnung sucht Studenten-WG!</td>\n",
       "      <td>3 Zimmer</td>\n",
       "      <td>102.11</td>\n",
       "      <td>Dominicusstraße 39 | 10827 Berlin</td>\n",
       "      <td>1.074,52 €</td>\n",
       "      <td>10.523161</td>\n",
       "    </tr>\n",
       "    <tr>\n",
       "      <th>43</th>\n",
       "      <td>20211031_2106</td>\n",
       "      <td>Steglitz-Zehlendorf</td>\n",
       "      <td>Familienwohnung - Erstbezug</td>\n",
       "      <td>4 Zimmer</td>\n",
       "      <td>96.60</td>\n",
       "      <td>Retzowstraße 54D | 12249 Berlin</td>\n",
       "      <td>1.207,50 €</td>\n",
       "      <td>12.500000</td>\n",
       "    </tr>\n",
       "    <tr>\n",
       "      <th>44</th>\n",
       "      <td>20211031_2106</td>\n",
       "      <td>Steglitz-Zehlendorf</td>\n",
       "      <td>Großzügige 3 Zimmer-Wohnung im Neubau</td>\n",
       "      <td>3 Zimmer</td>\n",
       "      <td>84.35</td>\n",
       "      <td>Retzowstraße 54A | 12249 Berlin</td>\n",
       "      <td>1.223,08 €</td>\n",
       "      <td>14.500059</td>\n",
       "    </tr>\n",
       "    <tr>\n",
       "      <th>58</th>\n",
       "      <td>20211101_1100</td>\n",
       "      <td>Marzahn-Hellersdorf</td>\n",
       "      <td>Erstbezug Neubau - Wohnung ausschließlich für ...</td>\n",
       "      <td>3 Zimmer</td>\n",
       "      <td>71.72</td>\n",
       "      <td>Ludwig-Renn-Straße 56 | 12679 Berlin</td>\n",
       "      <td>742,03 €</td>\n",
       "      <td>10.346207</td>\n",
       "    </tr>\n",
       "    <tr>\n",
       "      <th>60</th>\n",
       "      <td>20211101_1130</td>\n",
       "      <td>Marzahn-Hellersdorf</td>\n",
       "      <td>Erstbezug Neubau - Wohnung ausschließlich für ...</td>\n",
       "      <td>3 Zimmer</td>\n",
       "      <td>76.07</td>\n",
       "      <td>Ludwig-Renn-Straße 56 | 12679 Berlin</td>\n",
       "      <td>750,00 €</td>\n",
       "      <td>9.859340</td>\n",
       "    </tr>\n",
       "    <tr>\n",
       "      <th>70</th>\n",
       "      <td>20211101_1400</td>\n",
       "      <td>Umland</td>\n",
       "      <td>Schöne 3 Zimmer Wohnung mit Einbauküche</td>\n",
       "      <td>3 Zimmer</td>\n",
       "      <td>76.60</td>\n",
       "      <td>Falkenstraße 5 | 14612 Falkensee</td>\n",
       "      <td>858,75 €</td>\n",
       "      <td>11.210836</td>\n",
       "    </tr>\n",
       "    <tr>\n",
       "      <th>80</th>\n",
       "      <td>20211101_2200</td>\n",
       "      <td>Umland</td>\n",
       "      <td>Schöne 3 Zimmer Wohnung mit Einbauküche</td>\n",
       "      <td>3 Zimmer</td>\n",
       "      <td>76.60</td>\n",
       "      <td>Falkenstraße 5 | 14612 Falkensee</td>\n",
       "      <td>858,75 €</td>\n",
       "      <td>11.210836</td>\n",
       "    </tr>\n",
       "  </tbody>\n",
       "</table>\n",
       "</div>"
      ],
      "text/plain": [
       "   collection_timestamp neighborhood.district  \\\n",
       "26        20211031_2106  Tempelhof-Schöneberg   \n",
       "32        20211031_2106   Marzahn-Hellersdorf   \n",
       "33        20211031_2106   Marzahn-Hellersdorf   \n",
       "41        20211031_2106   Steglitz-Zehlendorf   \n",
       "42        20211031_2106  Tempelhof-Schöneberg   \n",
       "43        20211031_2106   Steglitz-Zehlendorf   \n",
       "44        20211031_2106   Steglitz-Zehlendorf   \n",
       "58        20211101_1100   Marzahn-Hellersdorf   \n",
       "60        20211101_1130   Marzahn-Hellersdorf   \n",
       "70        20211101_1400                Umland   \n",
       "80        20211101_2200                Umland   \n",
       "\n",
       "                                             headline number_of_rooms  \\\n",
       "26             Schöne 3-Zimmer Wohnung sucht Familie!        3 Zimmer   \n",
       "32  Erstbezug Neubau - Wohnung ausschließlich für ...        3 Zimmer   \n",
       "33  Erstbezug Neubau - Wohnung ausschließlich für ...        3 Zimmer   \n",
       "41           Großzügige 3-Zimmer-Wohnung im Erstbezug        3 Zimmer   \n",
       "42                 Schöne Wohnung sucht Studenten-WG!        3 Zimmer   \n",
       "43                        Familienwohnung - Erstbezug        4 Zimmer   \n",
       "44              Großzügige 3 Zimmer-Wohnung im Neubau        3 Zimmer   \n",
       "58  Erstbezug Neubau - Wohnung ausschließlich für ...        3 Zimmer   \n",
       "60  Erstbezug Neubau - Wohnung ausschließlich für ...        3 Zimmer   \n",
       "70            Schöne 3 Zimmer Wohnung mit Einbauküche        3 Zimmer   \n",
       "80            Schöne 3 Zimmer Wohnung mit Einbauküche        3 Zimmer   \n",
       "\n",
       "    living_space                          full_address rent_total_with_vat  \\\n",
       "26         75.72     Pechsteinstraße 64 | 12309 Berlin            655,73 €   \n",
       "32         71.72  Ludwig-Renn-Straße 56 | 12679 Berlin            742,03 €   \n",
       "33         76.07  Ludwig-Renn-Straße 56 | 12679 Berlin            750,00 €   \n",
       "41         84.49       Retzowstraße 54E | 12249 Berlin          1.056,13 €   \n",
       "42        102.11     Dominicusstraße 39 | 10827 Berlin          1.074,52 €   \n",
       "43         96.60       Retzowstraße 54D | 12249 Berlin          1.207,50 €   \n",
       "44         84.35       Retzowstraße 54A | 12249 Berlin          1.223,08 €   \n",
       "58         71.72  Ludwig-Renn-Straße 56 | 12679 Berlin            742,03 €   \n",
       "60         76.07  Ludwig-Renn-Straße 56 | 12679 Berlin            750,00 €   \n",
       "70         76.60      Falkenstraße 5 | 14612 Falkensee            858,75 €   \n",
       "80         76.60      Falkenstraße 5 | 14612 Falkensee            858,75 €   \n",
       "\n",
       "    price_per_sqm  \n",
       "26       8.659931  \n",
       "32      10.346207  \n",
       "33       9.859340  \n",
       "41      12.500059  \n",
       "42      10.523161  \n",
       "43      12.500000  \n",
       "44      14.500059  \n",
       "58      10.346207  \n",
       "60       9.859340  \n",
       "70      11.210836  \n",
       "80      11.210836  "
      ]
     },
     "execution_count": 5,
     "metadata": {},
     "output_type": "execute_result"
    }
   ],
   "source": [
    "df.query(\"(wbs_required == False) & (living_space > 70)\")[[\"collection_timestamp\",\"neighborhood.district\",\"headline\",\"number_of_rooms\",\"living_space\",\"full_address\",\"rent_total_with_vat\",\"price_per_sqm\"]]"
   ]
  },
  {
   "cell_type": "code",
   "execution_count": null,
   "id": "numerous-consumer",
   "metadata": {
    "papermill": {
     "duration": 0.054045,
     "end_time": "2021-11-01T21:30:11.799907",
     "exception": false,
     "start_time": "2021-11-01T21:30:11.745862",
     "status": "completed"
    },
    "tags": []
   },
   "outputs": [],
   "source": []
  }
 ],
 "metadata": {
  "kernelspec": {
   "display_name": "Python 3",
   "language": "python",
   "name": "python3"
  },
  "language_info": {
   "codemirror_mode": {
    "name": "ipython",
    "version": 3
   },
   "file_extension": ".py",
   "mimetype": "text/x-python",
   "name": "python",
   "nbconvert_exporter": "python",
   "pygments_lexer": "ipython3",
   "version": "3.9.5"
  },
  "papermill": {
   "default_parameters": {},
   "duration": 6.46792,
   "end_time": "2021-11-01T21:30:12.477211",
   "environment_variables": {},
   "exception": null,
   "input_path": "scratchfile.ipynb",
   "output_path": "scratchfile.ipynb",
   "parameters": {},
   "start_time": "2021-11-01T21:30:06.009291",
   "version": "2.3.3"
  }
 },
 "nbformat": 4,
 "nbformat_minor": 5
}