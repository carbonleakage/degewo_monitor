{
 "cells": [
  {
   "cell_type": "code",
   "execution_count": 1,
   "id": "commercial-return",
   "metadata": {
    "execution": {
     "iopub.execute_input": "2021-11-25T07:00:10.643113Z",
     "iopub.status.busy": "2021-11-25T07:00:10.639911Z",
     "iopub.status.idle": "2021-11-25T07:00:11.766422Z",
     "shell.execute_reply": "2021-11-25T07:00:11.767883Z"
    },
    "papermill": {
     "duration": 1.212106,
     "end_time": "2021-11-25T07:00:11.768594",
     "exception": false,
     "start_time": "2021-11-25T07:00:10.556488",
     "status": "completed"
    },
    "tags": []
   },
   "outputs": [],
   "source": [
    "import pandas as pd"
   ]
  },
  {
   "cell_type": "code",
   "execution_count": 2,
   "id": "dietary-notebook",
   "metadata": {
    "execution": {
     "iopub.execute_input": "2021-11-25T07:00:11.888520Z",
     "iopub.status.busy": "2021-11-25T07:00:11.886157Z",
     "iopub.status.idle": "2021-11-25T07:00:12.028332Z",
     "shell.execute_reply": "2021-11-25T07:00:12.029909Z"
    },
    "papermill": {
     "duration": 0.208306,
     "end_time": "2021-11-25T07:00:12.030425",
     "exception": false,
     "start_time": "2021-11-25T07:00:11.822119",
     "status": "completed"
    },
    "tags": []
   },
   "outputs": [],
   "source": [
    "df = pd.read_parquet(\"extract.parquet.gzip\")"
   ]
  },
  {
   "cell_type": "code",
   "execution_count": 3,
   "id": "municipal-accreditation",
   "metadata": {
    "execution": {
     "iopub.execute_input": "2021-11-25T07:00:12.187475Z",
     "iopub.status.busy": "2021-11-25T07:00:12.184730Z",
     "iopub.status.idle": "2021-11-25T07:00:12.197950Z",
     "shell.execute_reply": "2021-11-25T07:00:12.195968Z"
    },
    "papermill": {
     "duration": 0.107373,
     "end_time": "2021-11-25T07:00:12.198412",
     "exception": false,
     "start_time": "2021-11-25T07:00:12.091039",
     "status": "completed"
    },
    "tags": []
   },
   "outputs": [
    {
     "data": {
      "text/plain": [
       "20211031_2106    46\n",
       "20211101_1100     1\n",
       "20211101_1200     2\n",
       "20211101_1300     1\n",
       "20211101_1330     2\n",
       "                 ..\n",
       "20211124_1100     2\n",
       "20211124_1300     1\n",
       "20211124_1500     1\n",
       "20211124_1530     1\n",
       "20211124_1600     2\n",
       "Name: collection_timestamp, Length: 121, dtype: int64"
      ]
     },
     "execution_count": 3,
     "metadata": {},
     "output_type": "execute_result"
    }
   ],
   "source": [
    "df[\"collection_timestamp\"].value_counts().sort_index()"
   ]
  },
  {
   "cell_type": "code",
   "execution_count": 4,
   "id": "specialized-algorithm",
   "metadata": {
    "execution": {
     "iopub.execute_input": "2021-11-25T07:00:12.350776Z",
     "iopub.status.busy": "2021-11-25T07:00:12.346567Z",
     "iopub.status.idle": "2021-11-25T07:00:12.361014Z",
     "shell.execute_reply": "2021-11-25T07:00:12.363797Z"
    },
    "papermill": {
     "duration": 0.10596,
     "end_time": "2021-11-25T07:00:12.364588",
     "exception": false,
     "start_time": "2021-11-25T07:00:12.258628",
     "status": "completed"
    },
    "tags": []
   },
   "outputs": [
    {
     "name": "stderr",
     "output_type": "stream",
     "text": [
      "/tmp/ipykernel_257880/1121883873.py:1: FutureWarning: The default value of regex will change from True to False in a future version. In addition, single character regular expressions will *not* be treated as literal strings when regex=True.\n",
      "  df[\"price_per_sqm\"] =  df[\"rent_total_with_vat\"].str[:-2].str.replace(\".\",\"\").str.replace(\",\",\".\").astype(\"float\")/df[\"living_space\"]\n"
     ]
    }
   ],
   "source": [
    "df[\"price_per_sqm\"] =  df[\"rent_total_with_vat\"].str[:-2].str.replace(\".\",\"\").str.replace(\",\",\".\").astype(\"float\")/df[\"living_space\"]"
   ]
  },
  {
   "cell_type": "code",
   "execution_count": 5,
   "id": "powerful-coral",
   "metadata": {
    "execution": {
     "iopub.execute_input": "2021-11-25T07:00:12.540935Z",
     "iopub.status.busy": "2021-11-25T07:00:12.531558Z",
     "iopub.status.idle": "2021-11-25T07:00:12.549314Z",
     "shell.execute_reply": "2021-11-25T07:00:12.550588Z"
    },
    "papermill": {
     "duration": 0.116936,
     "end_time": "2021-11-25T07:00:12.551053",
     "exception": false,
     "start_time": "2021-11-25T07:00:12.434117",
     "status": "completed"
    },
    "tags": []
   },
   "outputs": [
    {
     "data": {
      "text/plain": [
       "Marzahn-Hellersdorf     11\n",
       "Steglitz-Zehlendorf      9\n",
       "Neukölln                 6\n",
       "Umland                   5\n",
       "Treptow-Köpenick         4\n",
       "Tempelhof-Schöneberg     2\n",
       "Mitte                    1\n",
       "Name: neighborhood.district, dtype: int64"
      ]
     },
     "execution_count": 5,
     "metadata": {},
     "output_type": "execute_result"
    }
   ],
   "source": [
    "df.query(\"(wbs_required == False) & (living_space > 70)\")[\"neighborhood.district\"].value_counts()"
   ]
  },
  {
   "cell_type": "code",
   "execution_count": 6,
   "id": "0c8bd5fd",
   "metadata": {
    "execution": {
     "iopub.execute_input": "2021-11-25T07:00:12.727260Z",
     "iopub.status.busy": "2021-11-25T07:00:12.722450Z",
     "iopub.status.idle": "2021-11-25T07:00:12.775843Z",
     "shell.execute_reply": "2021-11-25T07:00:12.777482Z"
    },
    "papermill": {
     "duration": 0.168802,
     "end_time": "2021-11-25T07:00:12.777973",
     "exception": false,
     "start_time": "2021-11-25T07:00:12.609171",
     "status": "completed"
    },
    "tags": []
   },
   "outputs": [
    {
     "data": {
      "text/html": [
       "<div>\n",
       "<style scoped>\n",
       "    .dataframe tbody tr th:only-of-type {\n",
       "        vertical-align: middle;\n",
       "    }\n",
       "\n",
       "    .dataframe tbody tr th {\n",
       "        vertical-align: top;\n",
       "    }\n",
       "\n",
       "    .dataframe thead th {\n",
       "        text-align: right;\n",
       "    }\n",
       "</style>\n",
       "<table border=\"1\" class=\"dataframe\">\n",
       "  <thead>\n",
       "    <tr style=\"text-align: right;\">\n",
       "      <th></th>\n",
       "      <th>id</th>\n",
       "      <th>collection_timestamp</th>\n",
       "      <th>neighborhood.district</th>\n",
       "      <th>headline</th>\n",
       "      <th>number_of_rooms</th>\n",
       "      <th>living_space</th>\n",
       "      <th>full_address</th>\n",
       "      <th>rent_total_with_vat</th>\n",
       "      <th>price_per_sqm</th>\n",
       "    </tr>\n",
       "  </thead>\n",
       "  <tbody>\n",
       "    <tr>\n",
       "      <th>41</th>\n",
       "      <td>W1150-00427-0177-0304</td>\n",
       "      <td>20211031_2106</td>\n",
       "      <td>Steglitz-Zehlendorf</td>\n",
       "      <td>Großzügige 3-Zimmer-Wohnung im Erstbezug</td>\n",
       "      <td>3 Zimmer</td>\n",
       "      <td>84.49</td>\n",
       "      <td>Retzowstraße 54E | 12249 Berlin</td>\n",
       "      <td>1.056,13 €</td>\n",
       "      <td>12.500059</td>\n",
       "    </tr>\n",
       "    <tr>\n",
       "      <th>43</th>\n",
       "      <td>W1150-00427-0186-0201</td>\n",
       "      <td>20211031_2106</td>\n",
       "      <td>Steglitz-Zehlendorf</td>\n",
       "      <td>Familienwohnung - Erstbezug</td>\n",
       "      <td>4 Zimmer</td>\n",
       "      <td>96.60</td>\n",
       "      <td>Retzowstraße 54D | 12249 Berlin</td>\n",
       "      <td>1.207,50 €</td>\n",
       "      <td>12.500000</td>\n",
       "    </tr>\n",
       "    <tr>\n",
       "      <th>44</th>\n",
       "      <td>W1150-00427-0206-0403</td>\n",
       "      <td>20211031_2106</td>\n",
       "      <td>Steglitz-Zehlendorf</td>\n",
       "      <td>Großzügige 3 Zimmer-Wohnung im Neubau</td>\n",
       "      <td>3 Zimmer</td>\n",
       "      <td>84.35</td>\n",
       "      <td>Retzowstraße 54A | 12249 Berlin</td>\n",
       "      <td>1.223,08 €</td>\n",
       "      <td>14.500059</td>\n",
       "    </tr>\n",
       "    <tr>\n",
       "      <th>93</th>\n",
       "      <td>W1150-00427-0001-0101</td>\n",
       "      <td>20211104_1130</td>\n",
       "      <td>Steglitz-Zehlendorf</td>\n",
       "      <td>3-Zimmer-Wohnung im Erdgeschoss - Erstbezug</td>\n",
       "      <td>3 Zimmer</td>\n",
       "      <td>86.43</td>\n",
       "      <td>Dessauer Straße 39 | 12249 Berlin</td>\n",
       "      <td>1.253,24 €</td>\n",
       "      <td>14.500058</td>\n",
       "    </tr>\n",
       "    <tr>\n",
       "      <th>129</th>\n",
       "      <td>W1150-00442-0058-0302</td>\n",
       "      <td>20211108_1500</td>\n",
       "      <td>Steglitz-Zehlendorf</td>\n",
       "      <td>Große 3 Zimmer Wohnung mit Balkon</td>\n",
       "      <td>3 Zimmer</td>\n",
       "      <td>93.50</td>\n",
       "      <td>Lloyd-G.-Wells-Straße 14 | 14163 Berlin</td>\n",
       "      <td>1.257,99 €</td>\n",
       "      <td>13.454439</td>\n",
       "    </tr>\n",
       "    <tr>\n",
       "      <th>138</th>\n",
       "      <td>W1150-00427-0207-0503</td>\n",
       "      <td>20211109_1530</td>\n",
       "      <td>Steglitz-Zehlendorf</td>\n",
       "      <td>Großzügige Familienwohnung in Lankwitz - Erstb...</td>\n",
       "      <td>5 Zimmer</td>\n",
       "      <td>126.37</td>\n",
       "      <td>Retzowstraße 54A | 12249 Berlin</td>\n",
       "      <td>1.863,96 €</td>\n",
       "      <td>14.750020</td>\n",
       "    </tr>\n",
       "    <tr>\n",
       "      <th>227</th>\n",
       "      <td>W1100-22010-0058-0302</td>\n",
       "      <td>20211118_1630</td>\n",
       "      <td>Steglitz-Zehlendorf</td>\n",
       "      <td>Frisch renoviert</td>\n",
       "      <td>3 Zimmer</td>\n",
       "      <td>78.75</td>\n",
       "      <td>Woltmannweg 33 | 12209 Berlin</td>\n",
       "      <td>885,94 €</td>\n",
       "      <td>11.250032</td>\n",
       "    </tr>\n",
       "    <tr>\n",
       "      <th>232</th>\n",
       "      <td>W1100-22014-0076-0513</td>\n",
       "      <td>20211118_1800</td>\n",
       "      <td>Steglitz-Zehlendorf</td>\n",
       "      <td>für Senioren - Wohnen unter Dach</td>\n",
       "      <td>2 Zimmer</td>\n",
       "      <td>70.92</td>\n",
       "      <td>Scheelestraße 109-111 | 12209 Berlin</td>\n",
       "      <td>883,17 €</td>\n",
       "      <td>12.453046</td>\n",
       "    </tr>\n",
       "    <tr>\n",
       "      <th>241</th>\n",
       "      <td>W1150-00427-0247-0503</td>\n",
       "      <td>20211123_0900</td>\n",
       "      <td>Steglitz-Zehlendorf</td>\n",
       "      <td>Große Familienwohnung mit riesiger Terrasse im...</td>\n",
       "      <td>4 Zimmer</td>\n",
       "      <td>127.25</td>\n",
       "      <td>Retzowstraße 54 | 12249 Berlin</td>\n",
       "      <td>1.876,94 €</td>\n",
       "      <td>14.750020</td>\n",
       "    </tr>\n",
       "  </tbody>\n",
       "</table>\n",
       "</div>"
      ],
      "text/plain": [
       "                        id collection_timestamp neighborhood.district  \\\n",
       "41   W1150-00427-0177-0304        20211031_2106   Steglitz-Zehlendorf   \n",
       "43   W1150-00427-0186-0201        20211031_2106   Steglitz-Zehlendorf   \n",
       "44   W1150-00427-0206-0403        20211031_2106   Steglitz-Zehlendorf   \n",
       "93   W1150-00427-0001-0101        20211104_1130   Steglitz-Zehlendorf   \n",
       "129  W1150-00442-0058-0302        20211108_1500   Steglitz-Zehlendorf   \n",
       "138  W1150-00427-0207-0503        20211109_1530   Steglitz-Zehlendorf   \n",
       "227  W1100-22010-0058-0302        20211118_1630   Steglitz-Zehlendorf   \n",
       "232  W1100-22014-0076-0513        20211118_1800   Steglitz-Zehlendorf   \n",
       "241  W1150-00427-0247-0503        20211123_0900   Steglitz-Zehlendorf   \n",
       "\n",
       "                                              headline number_of_rooms  \\\n",
       "41            Großzügige 3-Zimmer-Wohnung im Erstbezug        3 Zimmer   \n",
       "43                         Familienwohnung - Erstbezug        4 Zimmer   \n",
       "44               Großzügige 3 Zimmer-Wohnung im Neubau        3 Zimmer   \n",
       "93         3-Zimmer-Wohnung im Erdgeschoss - Erstbezug        3 Zimmer   \n",
       "129                  Große 3 Zimmer Wohnung mit Balkon        3 Zimmer   \n",
       "138  Großzügige Familienwohnung in Lankwitz - Erstb...        5 Zimmer   \n",
       "227                                   Frisch renoviert        3 Zimmer   \n",
       "232                   für Senioren - Wohnen unter Dach        2 Zimmer   \n",
       "241  Große Familienwohnung mit riesiger Terrasse im...        4 Zimmer   \n",
       "\n",
       "     living_space                             full_address  \\\n",
       "41          84.49          Retzowstraße 54E | 12249 Berlin   \n",
       "43          96.60          Retzowstraße 54D | 12249 Berlin   \n",
       "44          84.35          Retzowstraße 54A | 12249 Berlin   \n",
       "93          86.43        Dessauer Straße 39 | 12249 Berlin   \n",
       "129         93.50  Lloyd-G.-Wells-Straße 14 | 14163 Berlin   \n",
       "138        126.37          Retzowstraße 54A | 12249 Berlin   \n",
       "227         78.75            Woltmannweg 33 | 12209 Berlin   \n",
       "232         70.92     Scheelestraße 109-111 | 12209 Berlin   \n",
       "241        127.25           Retzowstraße 54 | 12249 Berlin   \n",
       "\n",
       "    rent_total_with_vat  price_per_sqm  \n",
       "41           1.056,13 €      12.500059  \n",
       "43           1.207,50 €      12.500000  \n",
       "44           1.223,08 €      14.500059  \n",
       "93           1.253,24 €      14.500058  \n",
       "129          1.257,99 €      13.454439  \n",
       "138          1.863,96 €      14.750020  \n",
       "227            885,94 €      11.250032  \n",
       "232            883,17 €      12.453046  \n",
       "241          1.876,94 €      14.750020  "
      ]
     },
     "execution_count": 6,
     "metadata": {},
     "output_type": "execute_result"
    }
   ],
   "source": [
    "df.query(\"(wbs_required == False) & (living_space > 70) & (`neighborhood.district` == 'Steglitz-Zehlendorf')\")[[\"id\",\"collection_timestamp\",\"neighborhood.district\",\"headline\",\"number_of_rooms\",\"living_space\",\"full_address\",\"rent_total_with_vat\",\"price_per_sqm\"]]"
   ]
  },
  {
   "cell_type": "code",
   "execution_count": null,
   "id": "03ed882a",
   "metadata": {
    "papermill": {
     "duration": 0.063541,
     "end_time": "2021-11-25T07:00:12.908183",
     "exception": false,
     "start_time": "2021-11-25T07:00:12.844642",
     "status": "completed"
    },
    "tags": []
   },
   "outputs": [],
   "source": []
  }
 ],
 "metadata": {
  "kernelspec": {
   "display_name": "Python 3",
   "language": "python",
   "name": "python3"
  },
  "language_info": {
   "codemirror_mode": {
    "name": "ipython",
    "version": 3
   },
   "file_extension": ".py",
   "mimetype": "text/x-python",
   "name": "python",
   "nbconvert_exporter": "python",
   "pygments_lexer": "ipython3",
   "version": "3.9.5"
  },
  "papermill": {
   "default_parameters": {},
   "duration": 6.809572,
   "end_time": "2021-11-25T07:00:13.594570",
   "environment_variables": {},
   "exception": null,
   "input_path": "scratchfile.ipynb",
   "output_path": "scratchfile.ipynb",
   "parameters": {},
   "start_time": "2021-11-25T07:00:06.784998",
   "version": "2.3.3"
  }
 },
 "nbformat": 4,
 "nbformat_minor": 5
}