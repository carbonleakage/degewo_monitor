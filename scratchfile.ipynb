{
 "cells": [
  {
   "cell_type": "code",
   "execution_count": 1,
   "id": "commercial-return",
   "metadata": {
    "execution": {
     "iopub.execute_input": "2021-12-11T05:00:10.142439Z",
     "iopub.status.busy": "2021-12-11T05:00:10.140239Z",
     "iopub.status.idle": "2021-12-11T05:00:11.293718Z",
     "shell.execute_reply": "2021-12-11T05:00:11.291870Z"
    },
    "papermill": {
     "duration": 1.230467,
     "end_time": "2021-12-11T05:00:11.294189",
     "exception": false,
     "start_time": "2021-12-11T05:00:10.063722",
     "status": "completed"
    },
    "tags": []
   },
   "outputs": [],
   "source": [
    "import pandas as pd"
   ]
  },
  {
   "cell_type": "code",
   "execution_count": 2,
   "id": "dietary-notebook",
   "metadata": {
    "execution": {
     "iopub.execute_input": "2021-12-11T05:00:11.421435Z",
     "iopub.status.busy": "2021-12-11T05:00:11.419114Z",
     "iopub.status.idle": "2021-12-11T05:00:11.592505Z",
     "shell.execute_reply": "2021-12-11T05:00:11.593971Z"
    },
    "papermill": {
     "duration": 0.243003,
     "end_time": "2021-12-11T05:00:11.594460",
     "exception": false,
     "start_time": "2021-12-11T05:00:11.351457",
     "status": "completed"
    },
    "tags": []
   },
   "outputs": [],
   "source": [
    "df = pd.read_parquet(\"extract.parquet.gzip\")"
   ]
  },
  {
   "cell_type": "code",
   "execution_count": 3,
   "id": "municipal-accreditation",
   "metadata": {
    "execution": {
     "iopub.execute_input": "2021-12-11T05:00:11.740495Z",
     "iopub.status.busy": "2021-12-11T05:00:11.728548Z",
     "iopub.status.idle": "2021-12-11T05:00:11.749332Z",
     "shell.execute_reply": "2021-12-11T05:00:11.750912Z"
    },
    "papermill": {
     "duration": 0.104823,
     "end_time": "2021-12-11T05:00:11.751426",
     "exception": false,
     "start_time": "2021-12-11T05:00:11.646603",
     "status": "completed"
    },
    "tags": []
   },
   "outputs": [
    {
     "data": {
      "text/plain": [
       "20211031_2106    46\n",
       "20211101_1100     1\n",
       "20211101_1200     2\n",
       "20211101_1300     1\n",
       "20211101_1330     2\n",
       "                 ..\n",
       "20211206_1530     1\n",
       "20211206_1600     1\n",
       "20211210_1200    20\n",
       "20211210_1500     2\n",
       "20211210_1530     1\n",
       "Name: collection_timestamp, Length: 166, dtype: int64"
      ]
     },
     "execution_count": 3,
     "metadata": {},
     "output_type": "execute_result"
    }
   ],
   "source": [
    "df[\"collection_timestamp\"].value_counts().sort_index()"
   ]
  },
  {
   "cell_type": "code",
   "execution_count": 4,
   "id": "specialized-algorithm",
   "metadata": {
    "execution": {
     "iopub.execute_input": "2021-12-11T05:00:11.893688Z",
     "iopub.status.busy": "2021-12-11T05:00:11.891299Z",
     "iopub.status.idle": "2021-12-11T05:00:11.899528Z",
     "shell.execute_reply": "2021-12-11T05:00:11.901096Z"
    },
    "papermill": {
     "duration": 0.088545,
     "end_time": "2021-12-11T05:00:11.901596",
     "exception": false,
     "start_time": "2021-12-11T05:00:11.813051",
     "status": "completed"
    },
    "tags": []
   },
   "outputs": [
    {
     "name": "stderr",
     "output_type": "stream",
     "text": [
      "/tmp/ipykernel_392733/1121883873.py:1: FutureWarning: The default value of regex will change from True to False in a future version. In addition, single character regular expressions will *not* be treated as literal strings when regex=True.\n",
      "  df[\"price_per_sqm\"] =  df[\"rent_total_with_vat\"].str[:-2].str.replace(\".\",\"\").str.replace(\",\",\".\").astype(\"float\")/df[\"living_space\"]\n"
     ]
    }
   ],
   "source": [
    "df[\"price_per_sqm\"] =  df[\"rent_total_with_vat\"].str[:-2].str.replace(\".\",\"\").str.replace(\",\",\".\").astype(\"float\")/df[\"living_space\"]"
   ]
  },
  {
   "cell_type": "code",
   "execution_count": 5,
   "id": "powerful-coral",
   "metadata": {
    "execution": {
     "iopub.execute_input": "2021-12-11T05:00:12.064187Z",
     "iopub.status.busy": "2021-12-11T05:00:12.052396Z",
     "iopub.status.idle": "2021-12-11T05:00:12.079293Z",
     "shell.execute_reply": "2021-12-11T05:00:12.081069Z"
    },
    "papermill": {
     "duration": 0.121015,
     "end_time": "2021-12-11T05:00:12.081584",
     "exception": false,
     "start_time": "2021-12-11T05:00:11.960569",
     "status": "completed"
    },
    "tags": []
   },
   "outputs": [
    {
     "data": {
      "text/plain": [
       "Marzahn-Hellersdorf           11\n",
       "Steglitz-Zehlendorf           11\n",
       "Neukölln                       8\n",
       "Treptow-Köpenick               7\n",
       "Umland                         6\n",
       "Tempelhof-Schöneberg           4\n",
       "Mitte                          1\n",
       "Charlottenburg-Wilmersdorf     1\n",
       "Name: neighborhood.district, dtype: int64"
      ]
     },
     "execution_count": 5,
     "metadata": {},
     "output_type": "execute_result"
    }
   ],
   "source": [
    "df.query(\"(wbs_required == False) & (living_space > 70)\")[\"neighborhood.district\"].value_counts()"
   ]
  },
  {
   "cell_type": "code",
   "execution_count": 6,
   "id": "0c8bd5fd",
   "metadata": {
    "execution": {
     "iopub.execute_input": "2021-12-11T05:00:12.256222Z",
     "iopub.status.busy": "2021-12-11T05:00:12.243300Z",
     "iopub.status.idle": "2021-12-11T05:00:12.302927Z",
     "shell.execute_reply": "2021-12-11T05:00:12.304331Z"
    },
    "papermill": {
     "duration": 0.162597,
     "end_time": "2021-12-11T05:00:12.304887",
     "exception": false,
     "start_time": "2021-12-11T05:00:12.142290",
     "status": "completed"
    },
    "tags": []
   },
   "outputs": [
    {
     "data": {
      "text/html": [
       "<div>\n",
       "<style scoped>\n",
       "    .dataframe tbody tr th:only-of-type {\n",
       "        vertical-align: middle;\n",
       "    }\n",
       "\n",
       "    .dataframe tbody tr th {\n",
       "        vertical-align: top;\n",
       "    }\n",
       "\n",
       "    .dataframe thead th {\n",
       "        text-align: right;\n",
       "    }\n",
       "</style>\n",
       "<table border=\"1\" class=\"dataframe\">\n",
       "  <thead>\n",
       "    <tr style=\"text-align: right;\">\n",
       "      <th></th>\n",
       "      <th>id</th>\n",
       "      <th>collection_timestamp</th>\n",
       "      <th>neighborhood.district</th>\n",
       "      <th>headline</th>\n",
       "      <th>number_of_rooms</th>\n",
       "      <th>living_space</th>\n",
       "      <th>full_address</th>\n",
       "      <th>rent_total_with_vat</th>\n",
       "      <th>price_per_sqm</th>\n",
       "    </tr>\n",
       "  </thead>\n",
       "  <tbody>\n",
       "    <tr>\n",
       "      <th>41</th>\n",
       "      <td>W1150-00427-0177-0304</td>\n",
       "      <td>20211031_2106</td>\n",
       "      <td>Steglitz-Zehlendorf</td>\n",
       "      <td>Großzügige 3-Zimmer-Wohnung im Erstbezug</td>\n",
       "      <td>3 Zimmer</td>\n",
       "      <td>84.49</td>\n",
       "      <td>Retzowstraße 54E | 12249 Berlin</td>\n",
       "      <td>1.056,13 €</td>\n",
       "      <td>12.500059</td>\n",
       "    </tr>\n",
       "    <tr>\n",
       "      <th>43</th>\n",
       "      <td>W1150-00427-0186-0201</td>\n",
       "      <td>20211031_2106</td>\n",
       "      <td>Steglitz-Zehlendorf</td>\n",
       "      <td>Familienwohnung - Erstbezug</td>\n",
       "      <td>4 Zimmer</td>\n",
       "      <td>96.60</td>\n",
       "      <td>Retzowstraße 54D | 12249 Berlin</td>\n",
       "      <td>1.207,50 €</td>\n",
       "      <td>12.500000</td>\n",
       "    </tr>\n",
       "    <tr>\n",
       "      <th>44</th>\n",
       "      <td>W1150-00427-0206-0403</td>\n",
       "      <td>20211031_2106</td>\n",
       "      <td>Steglitz-Zehlendorf</td>\n",
       "      <td>Großzügige 3 Zimmer-Wohnung im Neubau</td>\n",
       "      <td>3 Zimmer</td>\n",
       "      <td>84.35</td>\n",
       "      <td>Retzowstraße 54A | 12249 Berlin</td>\n",
       "      <td>1.223,08 €</td>\n",
       "      <td>14.500059</td>\n",
       "    </tr>\n",
       "    <tr>\n",
       "      <th>93</th>\n",
       "      <td>W1150-00427-0001-0101</td>\n",
       "      <td>20211104_1130</td>\n",
       "      <td>Steglitz-Zehlendorf</td>\n",
       "      <td>3-Zimmer-Wohnung im Erdgeschoss - Erstbezug</td>\n",
       "      <td>3 Zimmer</td>\n",
       "      <td>86.43</td>\n",
       "      <td>Dessauer Straße 39 | 12249 Berlin</td>\n",
       "      <td>1.253,24 €</td>\n",
       "      <td>14.500058</td>\n",
       "    </tr>\n",
       "    <tr>\n",
       "      <th>129</th>\n",
       "      <td>W1150-00442-0058-0302</td>\n",
       "      <td>20211108_1500</td>\n",
       "      <td>Steglitz-Zehlendorf</td>\n",
       "      <td>Große 3 Zimmer Wohnung mit Balkon</td>\n",
       "      <td>3 Zimmer</td>\n",
       "      <td>93.50</td>\n",
       "      <td>Lloyd-G.-Wells-Straße 14 | 14163 Berlin</td>\n",
       "      <td>1.257,99 €</td>\n",
       "      <td>13.454439</td>\n",
       "    </tr>\n",
       "    <tr>\n",
       "      <th>138</th>\n",
       "      <td>W1150-00427-0207-0503</td>\n",
       "      <td>20211109_1530</td>\n",
       "      <td>Steglitz-Zehlendorf</td>\n",
       "      <td>Großzügige Familienwohnung in Lankwitz - Erstb...</td>\n",
       "      <td>5 Zimmer</td>\n",
       "      <td>126.37</td>\n",
       "      <td>Retzowstraße 54A | 12249 Berlin</td>\n",
       "      <td>1.863,96 €</td>\n",
       "      <td>14.750020</td>\n",
       "    </tr>\n",
       "    <tr>\n",
       "      <th>227</th>\n",
       "      <td>W1100-22010-0058-0302</td>\n",
       "      <td>20211118_1630</td>\n",
       "      <td>Steglitz-Zehlendorf</td>\n",
       "      <td>Frisch renoviert</td>\n",
       "      <td>3 Zimmer</td>\n",
       "      <td>78.75</td>\n",
       "      <td>Woltmannweg 33 | 12209 Berlin</td>\n",
       "      <td>885,94 €</td>\n",
       "      <td>11.250032</td>\n",
       "    </tr>\n",
       "    <tr>\n",
       "      <th>232</th>\n",
       "      <td>W1100-22014-0076-0513</td>\n",
       "      <td>20211118_1800</td>\n",
       "      <td>Steglitz-Zehlendorf</td>\n",
       "      <td>für Senioren - Wohnen unter Dach</td>\n",
       "      <td>2 Zimmer</td>\n",
       "      <td>70.92</td>\n",
       "      <td>Scheelestraße 109-111 | 12209 Berlin</td>\n",
       "      <td>883,17 €</td>\n",
       "      <td>12.453046</td>\n",
       "    </tr>\n",
       "    <tr>\n",
       "      <th>241</th>\n",
       "      <td>W1150-00427-0247-0503</td>\n",
       "      <td>20211123_0900</td>\n",
       "      <td>Steglitz-Zehlendorf</td>\n",
       "      <td>Große Familienwohnung mit riesiger Terrasse im...</td>\n",
       "      <td>4 Zimmer</td>\n",
       "      <td>127.25</td>\n",
       "      <td>Retzowstraße 54 | 12249 Berlin</td>\n",
       "      <td>1.876,94 €</td>\n",
       "      <td>14.750020</td>\n",
       "    </tr>\n",
       "    <tr>\n",
       "      <th>275</th>\n",
       "      <td>W1150-00427-0224-0101</td>\n",
       "      <td>20211126_2200</td>\n",
       "      <td>Steglitz-Zehlendorf</td>\n",
       "      <td>Schöne 3-Zimmer-Wohnung im Erdgeschoss - Neubau!</td>\n",
       "      <td>3 Zimmer</td>\n",
       "      <td>85.37</td>\n",
       "      <td>Retzowstraße 54C | 12249 Berlin</td>\n",
       "      <td>1.237,87 €</td>\n",
       "      <td>14.500059</td>\n",
       "    </tr>\n",
       "    <tr>\n",
       "      <th>276</th>\n",
       "      <td>W1150-00427-0209-0104</td>\n",
       "      <td>20211126_2200</td>\n",
       "      <td>Steglitz-Zehlendorf</td>\n",
       "      <td>Große 4-Zimmer-Wohnung im Erdgeschoss - Neubau!</td>\n",
       "      <td>4 Zimmer</td>\n",
       "      <td>104.56</td>\n",
       "      <td>Retzowstraße 54B | 12249 Berlin</td>\n",
       "      <td>1.516,12 €</td>\n",
       "      <td>14.500000</td>\n",
       "    </tr>\n",
       "  </tbody>\n",
       "</table>\n",
       "</div>"
      ],
      "text/plain": [
       "                        id collection_timestamp neighborhood.district  \\\n",
       "41   W1150-00427-0177-0304        20211031_2106   Steglitz-Zehlendorf   \n",
       "43   W1150-00427-0186-0201        20211031_2106   Steglitz-Zehlendorf   \n",
       "44   W1150-00427-0206-0403        20211031_2106   Steglitz-Zehlendorf   \n",
       "93   W1150-00427-0001-0101        20211104_1130   Steglitz-Zehlendorf   \n",
       "129  W1150-00442-0058-0302        20211108_1500   Steglitz-Zehlendorf   \n",
       "138  W1150-00427-0207-0503        20211109_1530   Steglitz-Zehlendorf   \n",
       "227  W1100-22010-0058-0302        20211118_1630   Steglitz-Zehlendorf   \n",
       "232  W1100-22014-0076-0513        20211118_1800   Steglitz-Zehlendorf   \n",
       "241  W1150-00427-0247-0503        20211123_0900   Steglitz-Zehlendorf   \n",
       "275  W1150-00427-0224-0101        20211126_2200   Steglitz-Zehlendorf   \n",
       "276  W1150-00427-0209-0104        20211126_2200   Steglitz-Zehlendorf   \n",
       "\n",
       "                                              headline number_of_rooms  \\\n",
       "41            Großzügige 3-Zimmer-Wohnung im Erstbezug        3 Zimmer   \n",
       "43                         Familienwohnung - Erstbezug        4 Zimmer   \n",
       "44               Großzügige 3 Zimmer-Wohnung im Neubau        3 Zimmer   \n",
       "93         3-Zimmer-Wohnung im Erdgeschoss - Erstbezug        3 Zimmer   \n",
       "129                  Große 3 Zimmer Wohnung mit Balkon        3 Zimmer   \n",
       "138  Großzügige Familienwohnung in Lankwitz - Erstb...        5 Zimmer   \n",
       "227                                   Frisch renoviert        3 Zimmer   \n",
       "232                   für Senioren - Wohnen unter Dach        2 Zimmer   \n",
       "241  Große Familienwohnung mit riesiger Terrasse im...        4 Zimmer   \n",
       "275   Schöne 3-Zimmer-Wohnung im Erdgeschoss - Neubau!        3 Zimmer   \n",
       "276    Große 4-Zimmer-Wohnung im Erdgeschoss - Neubau!        4 Zimmer   \n",
       "\n",
       "     living_space                             full_address  \\\n",
       "41          84.49          Retzowstraße 54E | 12249 Berlin   \n",
       "43          96.60          Retzowstraße 54D | 12249 Berlin   \n",
       "44          84.35          Retzowstraße 54A | 12249 Berlin   \n",
       "93          86.43        Dessauer Straße 39 | 12249 Berlin   \n",
       "129         93.50  Lloyd-G.-Wells-Straße 14 | 14163 Berlin   \n",
       "138        126.37          Retzowstraße 54A | 12249 Berlin   \n",
       "227         78.75            Woltmannweg 33 | 12209 Berlin   \n",
       "232         70.92     Scheelestraße 109-111 | 12209 Berlin   \n",
       "241        127.25           Retzowstraße 54 | 12249 Berlin   \n",
       "275         85.37          Retzowstraße 54C | 12249 Berlin   \n",
       "276        104.56          Retzowstraße 54B | 12249 Berlin   \n",
       "\n",
       "    rent_total_with_vat  price_per_sqm  \n",
       "41           1.056,13 €      12.500059  \n",
       "43           1.207,50 €      12.500000  \n",
       "44           1.223,08 €      14.500059  \n",
       "93           1.253,24 €      14.500058  \n",
       "129          1.257,99 €      13.454439  \n",
       "138          1.863,96 €      14.750020  \n",
       "227            885,94 €      11.250032  \n",
       "232            883,17 €      12.453046  \n",
       "241          1.876,94 €      14.750020  \n",
       "275          1.237,87 €      14.500059  \n",
       "276          1.516,12 €      14.500000  "
      ]
     },
     "execution_count": 6,
     "metadata": {},
     "output_type": "execute_result"
    }
   ],
   "source": [
    "df.query(\"(wbs_required == False) & (living_space > 70) & (`neighborhood.district` == 'Steglitz-Zehlendorf')\")[[\"id\",\"collection_timestamp\",\"neighborhood.district\",\"headline\",\"number_of_rooms\",\"living_space\",\"full_address\",\"rent_total_with_vat\",\"price_per_sqm\"]]"
   ]
  },
  {
   "cell_type": "code",
   "execution_count": null,
   "id": "03ed882a",
   "metadata": {
    "papermill": {
     "duration": 0.065614,
     "end_time": "2021-12-11T05:00:12.435859",
     "exception": false,
     "start_time": "2021-12-11T05:00:12.370245",
     "status": "completed"
    },
    "tags": []
   },
   "outputs": [],
   "source": []
  }
 ],
 "metadata": {
  "kernelspec": {
   "display_name": "Python 3",
   "language": "python",
   "name": "python3"
  },
  "language_info": {
   "codemirror_mode": {
    "name": "ipython",
    "version": 3
   },
   "file_extension": ".py",
   "mimetype": "text/x-python",
   "name": "python",
   "nbconvert_exporter": "python",
   "pygments_lexer": "ipython3",
   "version": "3.9.5"
  },
  "papermill": {
   "default_parameters": {},
   "duration": 6.806076,
   "end_time": "2021-12-11T05:00:13.122819",
   "environment_variables": {},
   "exception": null,
   "input_path": "scratchfile.ipynb",
   "output_path": "scratchfile.ipynb",
   "parameters": {},
   "start_time": "2021-12-11T05:00:06.316743",
   "version": "2.3.3"
  }
 },
 "nbformat": 4,
 "nbformat_minor": 5
}