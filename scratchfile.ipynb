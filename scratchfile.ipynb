{
 "cells": [
  {
   "cell_type": "code",
   "execution_count": 1,
   "id": "retained-border",
   "metadata": {},
   "outputs": [],
   "source": [
    "import pandas as pd"
   ]
  },
  {
   "cell_type": "code",
   "execution_count": 16,
   "id": "unavailable-recycling",
   "metadata": {},
   "outputs": [],
   "source": [
    "df = pd.read_parquet(\"extract_20211031_1148.parquet.gzip\")"
   ]
  },
  {
   "cell_type": "code",
   "execution_count": 18,
   "id": "wrong-reform",
   "metadata": {},
   "outputs": [
    {
     "data": {
      "text/plain": [
       "Tempelhof-Schöneberg          16\n",
       "Marzahn-Hellersdorf           11\n",
       "Steglitz-Zehlendorf            8\n",
       "Mitte                          5\n",
       "Treptow-Köpenick               3\n",
       "Charlottenburg-Wilmersdorf     2\n",
       "Lichtenberg                    1\n",
       "Name: neighborhood.district, dtype: int64"
      ]
     },
     "execution_count": 18,
     "metadata": {},
     "output_type": "execute_result"
    }
   ],
   "source": [
    "df['neighborhood.district'].value_counts()"
   ]
  },
  {
   "cell_type": "code",
   "execution_count": 25,
   "id": "stone-syndication",
   "metadata": {},
   "outputs": [
    {
     "data": {
      "text/plain": [
       "False    25\n",
       "True     21\n",
       "Name: wbs_required, dtype: int64"
      ]
     },
     "execution_count": 25,
     "metadata": {},
     "output_type": "execute_result"
    }
   ],
   "source": [
    "df['wbs_required'].value_counts()"
   ]
  },
  {
   "cell_type": "code",
   "execution_count": 21,
   "id": "logical-oliver",
   "metadata": {},
   "outputs": [
    {
     "data": {
      "text/plain": [
       "Steglitz-Zehlendorf           3\n",
       "Tempelhof-Schöneberg          2\n",
       "Charlottenburg-Wilmersdorf    2\n",
       "Marzahn-Hellersdorf           2\n",
       "Mitte                         1\n",
       "Name: neighborhood.district, dtype: int64"
      ]
     },
     "execution_count": 21,
     "metadata": {},
     "output_type": "execute_result"
    }
   ],
   "source": [
    "df.query(\"living_space > 70\")['neighborhood.district'].value_counts()"
   ]
  },
  {
   "cell_type": "code",
   "execution_count": 23,
   "id": "living-comment",
   "metadata": {},
   "outputs": [
    {
     "data": {
      "text/html": [
       "<div>\n",
       "<style scoped>\n",
       "    .dataframe tbody tr th:only-of-type {\n",
       "        vertical-align: middle;\n",
       "    }\n",
       "\n",
       "    .dataframe tbody tr th {\n",
       "        vertical-align: top;\n",
       "    }\n",
       "\n",
       "    .dataframe thead th {\n",
       "        text-align: right;\n",
       "    }\n",
       "</style>\n",
       "<table border=\"1\" class=\"dataframe\">\n",
       "  <thead>\n",
       "    <tr style=\"text-align: right;\">\n",
       "      <th></th>\n",
       "      <th>id</th>\n",
       "      <th>hidden</th>\n",
       "      <th>property_number</th>\n",
       "      <th>original_external_id</th>\n",
       "      <th>open_immo_object</th>\n",
       "      <th>property_authority_name</th>\n",
       "      <th>contact_link</th>\n",
       "      <th>headline</th>\n",
       "      <th>living_space</th>\n",
       "      <th>commercial_space</th>\n",
       "      <th>...</th>\n",
       "      <th>authority.street</th>\n",
       "      <th>authority.street_number</th>\n",
       "      <th>authority.customer_service_description</th>\n",
       "      <th>authority.opening_hours_title</th>\n",
       "      <th>authority.opening_hours_1</th>\n",
       "      <th>authority.opening_hours_2</th>\n",
       "      <th>authority.opening_hours_3</th>\n",
       "      <th>authority.opening_hours_4</th>\n",
       "      <th>neighborhood.name</th>\n",
       "      <th>neighborhood.district</th>\n",
       "    </tr>\n",
       "  </thead>\n",
       "  <tbody>\n",
       "  </tbody>\n",
       "</table>\n",
       "<p>0 rows × 90 columns</p>\n",
       "</div>"
      ],
      "text/plain": [
       "Empty DataFrame\n",
       "Columns: [id, hidden, property_number, original_external_id, open_immo_object, property_authority_name, contact_link, headline, living_space, commercial_space, property_space, number_of_rooms, zipcode, city, street, street_number, floor, number_of_floors, story, rent_cold, rent_total_with_vat, rent_total_without_vat, rent_pa, buying_price, service_charges_cold, service_charges_warm, price_per_square_meter, common_charge, service_fee, deposit, company, construction_year, location_details_environment, location_details_inhouse, location_details_story, description, available_from, other_information, logo, wenr, energy_efficiency, energy_efficiency_class, energy_certificate_type, primary_energy_carrier, wbs_required, property_type_id, property_type, housing_type_id, housing_type, condition_id, condition, authority_id, neighborhood_id, external_data, furnishings, furnishings_text, property_categories, special_offers, district_tour, is_business, space, price, address, full_address, thumb_path, thumb_url, mobile_thumb_path, mobile_thumb_url, property_path, price_label, location.lat, location.lon, authority.surname, authority.prename, authority.telephone, authority.fax, authority.email, authority.email_expose, authority.zipcode, authority.city, authority.street, authority.street_number, authority.customer_service_description, authority.opening_hours_title, authority.opening_hours_1, authority.opening_hours_2, authority.opening_hours_3, authority.opening_hours_4, neighborhood.name, neighborhood.district]\n",
       "Index: []\n",
       "\n",
       "[0 rows x 90 columns]"
      ]
     },
     "execution_count": 23,
     "metadata": {},
     "output_type": "execute_result"
    }
   ],
   "source": [
    "df.query(\"(wbs_required == 'false') & (living_space > 70)\")"
   ]
  },
  {
   "cell_type": "code",
   "execution_count": null,
   "id": "unlimited-bacon",
   "metadata": {},
   "outputs": [],
   "source": []
  }
 ],
 "metadata": {
  "kernelspec": {
   "display_name": "Python 3",
   "language": "python",
   "name": "python3"
  },
  "language_info": {
   "codemirror_mode": {
    "name": "ipython",
    "version": 3
   },
   "file_extension": ".py",
   "mimetype": "text/x-python",
   "name": "python",
   "nbconvert_exporter": "python",
   "pygments_lexer": "ipython3",
   "version": "3.8.8"
  }
 },
 "nbformat": 4,
 "nbformat_minor": 5
}
