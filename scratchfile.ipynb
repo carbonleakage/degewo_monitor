{
 "cells": [
  {
   "cell_type": "code",
   "execution_count": 1,
   "id": "commercial-return",
   "metadata": {
    "execution": {
     "iopub.execute_input": "2021-11-09T23:00:10.724077Z",
     "iopub.status.busy": "2021-11-09T23:00:10.721926Z",
     "iopub.status.idle": "2021-11-09T23:00:11.906188Z",
     "shell.execute_reply": "2021-11-09T23:00:11.907651Z"
    },
    "papermill": {
     "duration": 1.263773,
     "end_time": "2021-11-09T23:00:11.908360",
     "exception": false,
     "start_time": "2021-11-09T23:00:10.644587",
     "status": "completed"
    },
    "tags": []
   },
   "outputs": [],
   "source": [
    "import pandas as pd"
   ]
  },
  {
   "cell_type": "code",
   "execution_count": 2,
   "id": "dietary-notebook",
   "metadata": {
    "execution": {
     "iopub.execute_input": "2021-11-09T23:00:12.028350Z",
     "iopub.status.busy": "2021-11-09T23:00:12.026028Z",
     "iopub.status.idle": "2021-11-09T23:00:12.169279Z",
     "shell.execute_reply": "2021-11-09T23:00:12.170854Z"
    },
    "papermill": {
     "duration": 0.209254,
     "end_time": "2021-11-09T23:00:12.171334",
     "exception": false,
     "start_time": "2021-11-09T23:00:11.962080",
     "status": "completed"
    },
    "tags": []
   },
   "outputs": [],
   "source": [
    "df = pd.read_parquet(\"extract.parquet.gzip\")"
   ]
  },
  {
   "cell_type": "code",
   "execution_count": 3,
   "id": "municipal-accreditation",
   "metadata": {
    "execution": {
     "iopub.execute_input": "2021-11-09T23:00:12.328649Z",
     "iopub.status.busy": "2021-11-09T23:00:12.312359Z",
     "iopub.status.idle": "2021-11-09T23:00:12.337384Z",
     "shell.execute_reply": "2021-11-09T23:00:12.338837Z"
    },
    "papermill": {
     "duration": 0.10896,
     "end_time": "2021-11-09T23:00:12.339323",
     "exception": false,
     "start_time": "2021-11-09T23:00:12.230363",
     "status": "completed"
    },
    "tags": []
   },
   "outputs": [
    {
     "data": {
      "text/plain": [
       "20211031_2106    46\n",
       "20211101_0730     1\n",
       "20211101_0830     1\n",
       "20211101_0900     1\n",
       "20211101_0930     2\n",
       "                 ..\n",
       "20211109_1530     1\n",
       "20211109_1600     1\n",
       "20211109_1830     1\n",
       "20211109_1900     2\n",
       "20211109_1930     2\n",
       "Name: collection_timestamp, Length: 167, dtype: int64"
      ]
     },
     "execution_count": 3,
     "metadata": {},
     "output_type": "execute_result"
    }
   ],
   "source": [
    "df[\"collection_timestamp\"].value_counts().sort_index()"
   ]
  },
  {
   "cell_type": "code",
   "execution_count": 4,
   "id": "specialized-algorithm",
   "metadata": {
    "execution": {
     "iopub.execute_input": "2021-11-09T23:00:12.480200Z",
     "iopub.status.busy": "2021-11-09T23:00:12.477829Z",
     "iopub.status.idle": "2021-11-09T23:00:12.486754Z",
     "shell.execute_reply": "2021-11-09T23:00:12.488441Z"
    },
    "papermill": {
     "duration": 0.091015,
     "end_time": "2021-11-09T23:00:12.488980",
     "exception": false,
     "start_time": "2021-11-09T23:00:12.397965",
     "status": "completed"
    },
    "tags": []
   },
   "outputs": [
    {
     "name": "stderr",
     "output_type": "stream",
     "text": [
      "/tmp/ipykernel_148149/1121883873.py:1: FutureWarning: The default value of regex will change from True to False in a future version. In addition, single character regular expressions will *not* be treated as literal strings when regex=True.\n",
      "  df[\"price_per_sqm\"] =  df[\"rent_total_with_vat\"].str[:-2].str.replace(\".\",\"\").str.replace(\",\",\".\").astype(\"float\")/df[\"living_space\"]\n"
     ]
    }
   ],
   "source": [
    "df[\"price_per_sqm\"] =  df[\"rent_total_with_vat\"].str[:-2].str.replace(\".\",\"\").str.replace(\",\",\".\").astype(\"float\")/df[\"living_space\"]"
   ]
  },
  {
   "cell_type": "code",
   "execution_count": 5,
   "id": "powerful-coral",
   "metadata": {
    "execution": {
     "iopub.execute_input": "2021-11-09T23:00:12.682038Z",
     "iopub.status.busy": "2021-11-09T23:00:12.663508Z",
     "iopub.status.idle": "2021-11-09T23:00:12.692913Z",
     "shell.execute_reply": "2021-11-09T23:00:12.690893Z"
    },
    "papermill": {
     "duration": 0.146579,
     "end_time": "2021-11-09T23:00:12.693503",
     "exception": false,
     "start_time": "2021-11-09T23:00:12.546924",
     "status": "completed"
    },
    "tags": []
   },
   "outputs": [
    {
     "data": {
      "text/plain": [
       "Marzahn-Hellersdorf     42\n",
       "Steglitz-Zehlendorf      8\n",
       "Neukölln                 7\n",
       "Umland                   3\n",
       "Tempelhof-Schöneberg     2\n",
       "Mitte                    2\n",
       "Name: neighborhood.district, dtype: int64"
      ]
     },
     "execution_count": 5,
     "metadata": {},
     "output_type": "execute_result"
    }
   ],
   "source": [
    "df.query(\"(wbs_required == False) & (living_space > 70)\")[\"neighborhood.district\"].value_counts()"
   ]
  },
  {
   "cell_type": "code",
   "execution_count": 6,
   "id": "0c8bd5fd",
   "metadata": {
    "execution": {
     "iopub.execute_input": "2021-11-09T23:00:13.030729Z",
     "iopub.status.busy": "2021-11-09T23:00:13.017729Z",
     "iopub.status.idle": "2021-11-09T23:00:13.081598Z",
     "shell.execute_reply": "2021-11-09T23:00:13.083137Z"
    },
    "papermill": {
     "duration": 0.222653,
     "end_time": "2021-11-09T23:00:13.083627",
     "exception": false,
     "start_time": "2021-11-09T23:00:12.860974",
     "status": "completed"
    },
    "tags": []
   },
   "outputs": [
    {
     "data": {
      "text/html": [
       "<div>\n",
       "<style scoped>\n",
       "    .dataframe tbody tr th:only-of-type {\n",
       "        vertical-align: middle;\n",
       "    }\n",
       "\n",
       "    .dataframe tbody tr th {\n",
       "        vertical-align: top;\n",
       "    }\n",
       "\n",
       "    .dataframe thead th {\n",
       "        text-align: right;\n",
       "    }\n",
       "</style>\n",
       "<table border=\"1\" class=\"dataframe\">\n",
       "  <thead>\n",
       "    <tr style=\"text-align: right;\">\n",
       "      <th></th>\n",
       "      <th>collection_timestamp</th>\n",
       "      <th>neighborhood.district</th>\n",
       "      <th>headline</th>\n",
       "      <th>number_of_rooms</th>\n",
       "      <th>living_space</th>\n",
       "      <th>full_address</th>\n",
       "      <th>rent_total_with_vat</th>\n",
       "      <th>price_per_sqm</th>\n",
       "    </tr>\n",
       "  </thead>\n",
       "  <tbody>\n",
       "    <tr>\n",
       "      <th>26</th>\n",
       "      <td>20211031_2106</td>\n",
       "      <td>Tempelhof-Schöneberg</td>\n",
       "      <td>Schöne 3-Zimmer Wohnung sucht Familie!</td>\n",
       "      <td>3 Zimmer</td>\n",
       "      <td>75.72</td>\n",
       "      <td>Pechsteinstraße 64 | 12309 Berlin</td>\n",
       "      <td>655,73 €</td>\n",
       "      <td>8.659931</td>\n",
       "    </tr>\n",
       "    <tr>\n",
       "      <th>32</th>\n",
       "      <td>20211031_2106</td>\n",
       "      <td>Marzahn-Hellersdorf</td>\n",
       "      <td>Erstbezug Neubau - Wohnung ausschließlich für ...</td>\n",
       "      <td>3 Zimmer</td>\n",
       "      <td>71.72</td>\n",
       "      <td>Ludwig-Renn-Straße 56 | 12679 Berlin</td>\n",
       "      <td>742,03 €</td>\n",
       "      <td>10.346207</td>\n",
       "    </tr>\n",
       "    <tr>\n",
       "      <th>33</th>\n",
       "      <td>20211031_2106</td>\n",
       "      <td>Marzahn-Hellersdorf</td>\n",
       "      <td>Erstbezug Neubau - Wohnung ausschließlich für ...</td>\n",
       "      <td>3 Zimmer</td>\n",
       "      <td>76.07</td>\n",
       "      <td>Ludwig-Renn-Straße 56 | 12679 Berlin</td>\n",
       "      <td>750,00 €</td>\n",
       "      <td>9.859340</td>\n",
       "    </tr>\n",
       "    <tr>\n",
       "      <th>41</th>\n",
       "      <td>20211031_2106</td>\n",
       "      <td>Steglitz-Zehlendorf</td>\n",
       "      <td>Großzügige 3-Zimmer-Wohnung im Erstbezug</td>\n",
       "      <td>3 Zimmer</td>\n",
       "      <td>84.49</td>\n",
       "      <td>Retzowstraße 54E | 12249 Berlin</td>\n",
       "      <td>1.056,13 €</td>\n",
       "      <td>12.500059</td>\n",
       "    </tr>\n",
       "    <tr>\n",
       "      <th>42</th>\n",
       "      <td>20211031_2106</td>\n",
       "      <td>Tempelhof-Schöneberg</td>\n",
       "      <td>Schöne Wohnung sucht Studenten-WG!</td>\n",
       "      <td>3 Zimmer</td>\n",
       "      <td>102.11</td>\n",
       "      <td>Dominicusstraße 39 | 10827 Berlin</td>\n",
       "      <td>1.074,52 €</td>\n",
       "      <td>10.523161</td>\n",
       "    </tr>\n",
       "    <tr>\n",
       "      <th>...</th>\n",
       "      <td>...</td>\n",
       "      <td>...</td>\n",
       "      <td>...</td>\n",
       "      <td>...</td>\n",
       "      <td>...</td>\n",
       "      <td>...</td>\n",
       "      <td>...</td>\n",
       "      <td>...</td>\n",
       "    </tr>\n",
       "    <tr>\n",
       "      <th>370</th>\n",
       "      <td>20211109_0500</td>\n",
       "      <td>Marzahn-Hellersdorf</td>\n",
       "      <td>Erstbezug Neubau - Wohnung ausschließlich für ...</td>\n",
       "      <td>3 Zimmer</td>\n",
       "      <td>76.07</td>\n",
       "      <td>Ludwig-Renn-Straße 56 | 12679 Berlin</td>\n",
       "      <td>750,00 €</td>\n",
       "      <td>9.859340</td>\n",
       "    </tr>\n",
       "    <tr>\n",
       "      <th>375</th>\n",
       "      <td>20211109_1400</td>\n",
       "      <td>Marzahn-Hellersdorf</td>\n",
       "      <td>Familienwohnung ganz oben - ohne Aufzug!</td>\n",
       "      <td>4 Zimmer</td>\n",
       "      <td>80.49</td>\n",
       "      <td>Blumberger Damm 204 | 12679 Berlin</td>\n",
       "      <td>631,96 €</td>\n",
       "      <td>7.851410</td>\n",
       "    </tr>\n",
       "    <tr>\n",
       "      <th>376</th>\n",
       "      <td>20211109_1430</td>\n",
       "      <td>Neukölln</td>\n",
       "      <td>Erstbezug Neubau</td>\n",
       "      <td>4 Zimmer</td>\n",
       "      <td>86.68</td>\n",
       "      <td>Theodor-Loos-Weg 15 | 12353 Berlin</td>\n",
       "      <td>1.213,52 €</td>\n",
       "      <td>14.000000</td>\n",
       "    </tr>\n",
       "    <tr>\n",
       "      <th>377</th>\n",
       "      <td>20211109_1430</td>\n",
       "      <td>Neukölln</td>\n",
       "      <td>Erstbezug Neubau</td>\n",
       "      <td>5 Zimmer</td>\n",
       "      <td>104.02</td>\n",
       "      <td>Theodor-Loos-Weg 15 | 12353 Berlin</td>\n",
       "      <td>1.352,26 €</td>\n",
       "      <td>13.000000</td>\n",
       "    </tr>\n",
       "    <tr>\n",
       "      <th>379</th>\n",
       "      <td>20211109_1530</td>\n",
       "      <td>Steglitz-Zehlendorf</td>\n",
       "      <td>Großzügige Familienwohnung in Lankwitz - Erstb...</td>\n",
       "      <td>5 Zimmer</td>\n",
       "      <td>126.37</td>\n",
       "      <td>Retzowstraße 54A | 12249 Berlin</td>\n",
       "      <td>1.863,96 €</td>\n",
       "      <td>14.750020</td>\n",
       "    </tr>\n",
       "  </tbody>\n",
       "</table>\n",
       "<p>64 rows × 8 columns</p>\n",
       "</div>"
      ],
      "text/plain": [
       "    collection_timestamp neighborhood.district  \\\n",
       "26         20211031_2106  Tempelhof-Schöneberg   \n",
       "32         20211031_2106   Marzahn-Hellersdorf   \n",
       "33         20211031_2106   Marzahn-Hellersdorf   \n",
       "41         20211031_2106   Steglitz-Zehlendorf   \n",
       "42         20211031_2106  Tempelhof-Schöneberg   \n",
       "..                   ...                   ...   \n",
       "370        20211109_0500   Marzahn-Hellersdorf   \n",
       "375        20211109_1400   Marzahn-Hellersdorf   \n",
       "376        20211109_1430              Neukölln   \n",
       "377        20211109_1430              Neukölln   \n",
       "379        20211109_1530   Steglitz-Zehlendorf   \n",
       "\n",
       "                                              headline number_of_rooms  \\\n",
       "26              Schöne 3-Zimmer Wohnung sucht Familie!        3 Zimmer   \n",
       "32   Erstbezug Neubau - Wohnung ausschließlich für ...        3 Zimmer   \n",
       "33   Erstbezug Neubau - Wohnung ausschließlich für ...        3 Zimmer   \n",
       "41            Großzügige 3-Zimmer-Wohnung im Erstbezug        3 Zimmer   \n",
       "42                  Schöne Wohnung sucht Studenten-WG!        3 Zimmer   \n",
       "..                                                 ...             ...   \n",
       "370  Erstbezug Neubau - Wohnung ausschließlich für ...        3 Zimmer   \n",
       "375           Familienwohnung ganz oben - ohne Aufzug!        4 Zimmer   \n",
       "376                                   Erstbezug Neubau        4 Zimmer   \n",
       "377                                   Erstbezug Neubau        5 Zimmer   \n",
       "379  Großzügige Familienwohnung in Lankwitz - Erstb...        5 Zimmer   \n",
       "\n",
       "     living_space                          full_address rent_total_with_vat  \\\n",
       "26          75.72     Pechsteinstraße 64 | 12309 Berlin            655,73 €   \n",
       "32          71.72  Ludwig-Renn-Straße 56 | 12679 Berlin            742,03 €   \n",
       "33          76.07  Ludwig-Renn-Straße 56 | 12679 Berlin            750,00 €   \n",
       "41          84.49       Retzowstraße 54E | 12249 Berlin          1.056,13 €   \n",
       "42         102.11     Dominicusstraße 39 | 10827 Berlin          1.074,52 €   \n",
       "..            ...                                   ...                 ...   \n",
       "370         76.07  Ludwig-Renn-Straße 56 | 12679 Berlin            750,00 €   \n",
       "375         80.49    Blumberger Damm 204 | 12679 Berlin            631,96 €   \n",
       "376         86.68    Theodor-Loos-Weg 15 | 12353 Berlin          1.213,52 €   \n",
       "377        104.02    Theodor-Loos-Weg 15 | 12353 Berlin          1.352,26 €   \n",
       "379        126.37       Retzowstraße 54A | 12249 Berlin          1.863,96 €   \n",
       "\n",
       "     price_per_sqm  \n",
       "26        8.659931  \n",
       "32       10.346207  \n",
       "33        9.859340  \n",
       "41       12.500059  \n",
       "42       10.523161  \n",
       "..             ...  \n",
       "370       9.859340  \n",
       "375       7.851410  \n",
       "376      14.000000  \n",
       "377      13.000000  \n",
       "379      14.750020  \n",
       "\n",
       "[64 rows x 8 columns]"
      ]
     },
     "execution_count": 6,
     "metadata": {},
     "output_type": "execute_result"
    }
   ],
   "source": [
    "df.query(\"(wbs_required == False) & (living_space > 70)\")[[\"collection_timestamp\",\"neighborhood.district\",\"headline\",\"number_of_rooms\",\"living_space\",\"full_address\",\"rent_total_with_vat\",\"price_per_sqm\"]]"
   ]
  },
  {
   "cell_type": "code",
   "execution_count": null,
   "id": "numerous-consumer",
   "metadata": {
    "papermill": {
     "duration": 0.066499,
     "end_time": "2021-11-09T23:00:13.215830",
     "exception": false,
     "start_time": "2021-11-09T23:00:13.149331",
     "status": "completed"
    },
    "tags": []
   },
   "outputs": [],
   "source": []
  }
 ],
 "metadata": {
  "kernelspec": {
   "display_name": "Python 3",
   "language": "python",
   "name": "python3"
  },
  "language_info": {
   "codemirror_mode": {
    "name": "ipython",
    "version": 3
   },
   "file_extension": ".py",
   "mimetype": "text/x-python",
   "name": "python",
   "nbconvert_exporter": "python",
   "pygments_lexer": "ipython3",
   "version": "3.9.5"
  },
  "papermill": {
   "default_parameters": {},
   "duration": 7.103682,
   "end_time": "2021-11-09T23:00:14.004666",
   "environment_variables": {},
   "exception": null,
   "input_path": "scratchfile.ipynb",
   "output_path": "scratchfile.ipynb",
   "parameters": {},
   "start_time": "2021-11-09T23:00:06.900984",
   "version": "2.3.3"
  }
 },
 "nbformat": 4,
 "nbformat_minor": 5
}