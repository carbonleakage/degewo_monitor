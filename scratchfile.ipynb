{
 "cells": [
  {
   "cell_type": "code",
   "execution_count": 1,
   "id": "commercial-return",
   "metadata": {
    "execution": {
     "iopub.execute_input": "2021-11-10T19:30:10.394133Z",
     "iopub.status.busy": "2021-11-10T19:30:10.392008Z",
     "iopub.status.idle": "2021-11-10T19:30:11.578853Z",
     "shell.execute_reply": "2021-11-10T19:30:11.580280Z"
    },
    "papermill": {
     "duration": 1.265791,
     "end_time": "2021-11-10T19:30:11.581043",
     "exception": false,
     "start_time": "2021-11-10T19:30:10.315252",
     "status": "completed"
    },
    "tags": []
   },
   "outputs": [],
   "source": [
    "import pandas as pd"
   ]
  },
  {
   "cell_type": "code",
   "execution_count": 2,
   "id": "dietary-notebook",
   "metadata": {
    "execution": {
     "iopub.execute_input": "2021-11-10T19:30:11.701099Z",
     "iopub.status.busy": "2021-11-10T19:30:11.698764Z",
     "iopub.status.idle": "2021-11-10T19:30:11.850154Z",
     "shell.execute_reply": "2021-11-10T19:30:11.851734Z"
    },
    "papermill": {
     "duration": 0.217756,
     "end_time": "2021-11-10T19:30:11.852222",
     "exception": false,
     "start_time": "2021-11-10T19:30:11.634466",
     "status": "completed"
    },
    "tags": []
   },
   "outputs": [],
   "source": [
    "df = pd.read_parquet(\"extract.parquet.gzip\")"
   ]
  },
  {
   "cell_type": "code",
   "execution_count": 3,
   "id": "municipal-accreditation",
   "metadata": {
    "execution": {
     "iopub.execute_input": "2021-11-10T19:30:12.009558Z",
     "iopub.status.busy": "2021-11-10T19:30:12.007071Z",
     "iopub.status.idle": "2021-11-10T19:30:12.017437Z",
     "shell.execute_reply": "2021-11-10T19:30:12.019090Z"
    },
    "papermill": {
     "duration": 0.109509,
     "end_time": "2021-11-10T19:30:12.019582",
     "exception": false,
     "start_time": "2021-11-10T19:30:11.910073",
     "status": "completed"
    },
    "tags": []
   },
   "outputs": [
    {
     "data": {
      "text/plain": [
       "20211031_2106    46\n",
       "20211101_0730     1\n",
       "20211101_0830     1\n",
       "20211101_0900     1\n",
       "20211101_0930     2\n",
       "                 ..\n",
       "20211110_1530     1\n",
       "20211110_1630     2\n",
       "20211110_1800     2\n",
       "20211110_1830     2\n",
       "20211110_1930     2\n",
       "Name: collection_timestamp, Length: 183, dtype: int64"
      ]
     },
     "execution_count": 3,
     "metadata": {},
     "output_type": "execute_result"
    }
   ],
   "source": [
    "df[\"collection_timestamp\"].value_counts().sort_index()"
   ]
  },
  {
   "cell_type": "code",
   "execution_count": 4,
   "id": "specialized-algorithm",
   "metadata": {
    "execution": {
     "iopub.execute_input": "2021-11-10T19:30:12.157177Z",
     "iopub.status.busy": "2021-11-10T19:30:12.154905Z",
     "iopub.status.idle": "2021-11-10T19:30:12.163878Z",
     "shell.execute_reply": "2021-11-10T19:30:12.165447Z"
    },
    "papermill": {
     "duration": 0.086912,
     "end_time": "2021-11-10T19:30:12.165923",
     "exception": false,
     "start_time": "2021-11-10T19:30:12.079011",
     "status": "completed"
    },
    "tags": []
   },
   "outputs": [
    {
     "name": "stderr",
     "output_type": "stream",
     "text": [
      "/tmp/ipykernel_153454/1121883873.py:1: FutureWarning: The default value of regex will change from True to False in a future version. In addition, single character regular expressions will *not* be treated as literal strings when regex=True.\n",
      "  df[\"price_per_sqm\"] =  df[\"rent_total_with_vat\"].str[:-2].str.replace(\".\",\"\").str.replace(\",\",\".\").astype(\"float\")/df[\"living_space\"]\n"
     ]
    }
   ],
   "source": [
    "df[\"price_per_sqm\"] =  df[\"rent_total_with_vat\"].str[:-2].str.replace(\".\",\"\").str.replace(\",\",\".\").astype(\"float\")/df[\"living_space\"]"
   ]
  },
  {
   "cell_type": "code",
   "execution_count": 5,
   "id": "powerful-coral",
   "metadata": {
    "execution": {
     "iopub.execute_input": "2021-11-10T19:30:12.334668Z",
     "iopub.status.busy": "2021-11-10T19:30:12.324204Z",
     "iopub.status.idle": "2021-11-10T19:30:12.343095Z",
     "shell.execute_reply": "2021-11-10T19:30:12.344421Z"
    },
    "papermill": {
     "duration": 0.119125,
     "end_time": "2021-11-10T19:30:12.344935",
     "exception": false,
     "start_time": "2021-11-10T19:30:12.225810",
     "status": "completed"
    },
    "tags": []
   },
   "outputs": [
    {
     "data": {
      "text/plain": [
       "Marzahn-Hellersdorf     45\n",
       "Neukölln                 9\n",
       "Steglitz-Zehlendorf      8\n",
       "Umland                   3\n",
       "Tempelhof-Schöneberg     2\n",
       "Mitte                    2\n",
       "Treptow-Köpenick         2\n",
       "Name: neighborhood.district, dtype: int64"
      ]
     },
     "execution_count": 5,
     "metadata": {},
     "output_type": "execute_result"
    }
   ],
   "source": [
    "df.query(\"(wbs_required == False) & (living_space > 70)\")[\"neighborhood.district\"].value_counts()"
   ]
  },
  {
   "cell_type": "code",
   "execution_count": 6,
   "id": "0c8bd5fd",
   "metadata": {
    "execution": {
     "iopub.execute_input": "2021-11-10T19:30:12.518819Z",
     "iopub.status.busy": "2021-11-10T19:30:12.506231Z",
     "iopub.status.idle": "2021-11-10T19:30:12.571810Z",
     "shell.execute_reply": "2021-11-10T19:30:12.570210Z"
    },
    "papermill": {
     "duration": 0.166998,
     "end_time": "2021-11-10T19:30:12.572241",
     "exception": false,
     "start_time": "2021-11-10T19:30:12.405243",
     "status": "completed"
    },
    "tags": []
   },
   "outputs": [
    {
     "data": {
      "text/html": [
       "<div>\n",
       "<style scoped>\n",
       "    .dataframe tbody tr th:only-of-type {\n",
       "        vertical-align: middle;\n",
       "    }\n",
       "\n",
       "    .dataframe tbody tr th {\n",
       "        vertical-align: top;\n",
       "    }\n",
       "\n",
       "    .dataframe thead th {\n",
       "        text-align: right;\n",
       "    }\n",
       "</style>\n",
       "<table border=\"1\" class=\"dataframe\">\n",
       "  <thead>\n",
       "    <tr style=\"text-align: right;\">\n",
       "      <th></th>\n",
       "      <th>collection_timestamp</th>\n",
       "      <th>neighborhood.district</th>\n",
       "      <th>headline</th>\n",
       "      <th>number_of_rooms</th>\n",
       "      <th>living_space</th>\n",
       "      <th>full_address</th>\n",
       "      <th>rent_total_with_vat</th>\n",
       "      <th>price_per_sqm</th>\n",
       "    </tr>\n",
       "  </thead>\n",
       "  <tbody>\n",
       "    <tr>\n",
       "      <th>26</th>\n",
       "      <td>20211031_2106</td>\n",
       "      <td>Tempelhof-Schöneberg</td>\n",
       "      <td>Schöne 3-Zimmer Wohnung sucht Familie!</td>\n",
       "      <td>3 Zimmer</td>\n",
       "      <td>75.72</td>\n",
       "      <td>Pechsteinstraße 64 | 12309 Berlin</td>\n",
       "      <td>655,73 €</td>\n",
       "      <td>8.659931</td>\n",
       "    </tr>\n",
       "    <tr>\n",
       "      <th>32</th>\n",
       "      <td>20211031_2106</td>\n",
       "      <td>Marzahn-Hellersdorf</td>\n",
       "      <td>Erstbezug Neubau - Wohnung ausschließlich für ...</td>\n",
       "      <td>3 Zimmer</td>\n",
       "      <td>71.72</td>\n",
       "      <td>Ludwig-Renn-Straße 56 | 12679 Berlin</td>\n",
       "      <td>742,03 €</td>\n",
       "      <td>10.346207</td>\n",
       "    </tr>\n",
       "    <tr>\n",
       "      <th>33</th>\n",
       "      <td>20211031_2106</td>\n",
       "      <td>Marzahn-Hellersdorf</td>\n",
       "      <td>Erstbezug Neubau - Wohnung ausschließlich für ...</td>\n",
       "      <td>3 Zimmer</td>\n",
       "      <td>76.07</td>\n",
       "      <td>Ludwig-Renn-Straße 56 | 12679 Berlin</td>\n",
       "      <td>750,00 €</td>\n",
       "      <td>9.859340</td>\n",
       "    </tr>\n",
       "    <tr>\n",
       "      <th>41</th>\n",
       "      <td>20211031_2106</td>\n",
       "      <td>Steglitz-Zehlendorf</td>\n",
       "      <td>Großzügige 3-Zimmer-Wohnung im Erstbezug</td>\n",
       "      <td>3 Zimmer</td>\n",
       "      <td>84.49</td>\n",
       "      <td>Retzowstraße 54E | 12249 Berlin</td>\n",
       "      <td>1.056,13 €</td>\n",
       "      <td>12.500059</td>\n",
       "    </tr>\n",
       "    <tr>\n",
       "      <th>42</th>\n",
       "      <td>20211031_2106</td>\n",
       "      <td>Tempelhof-Schöneberg</td>\n",
       "      <td>Schöne Wohnung sucht Studenten-WG!</td>\n",
       "      <td>3 Zimmer</td>\n",
       "      <td>102.11</td>\n",
       "      <td>Dominicusstraße 39 | 10827 Berlin</td>\n",
       "      <td>1.074,52 €</td>\n",
       "      <td>10.523161</td>\n",
       "    </tr>\n",
       "    <tr>\n",
       "      <th>...</th>\n",
       "      <td>...</td>\n",
       "      <td>...</td>\n",
       "      <td>...</td>\n",
       "      <td>...</td>\n",
       "      <td>...</td>\n",
       "      <td>...</td>\n",
       "      <td>...</td>\n",
       "      <td>...</td>\n",
       "    </tr>\n",
       "    <tr>\n",
       "      <th>389</th>\n",
       "      <td>20211110_0400</td>\n",
       "      <td>Marzahn-Hellersdorf</td>\n",
       "      <td>Familienwohnung ganz oben - ohne Aufzug!</td>\n",
       "      <td>4 Zimmer</td>\n",
       "      <td>80.49</td>\n",
       "      <td>Blumberger Damm 204 | 12679 Berlin</td>\n",
       "      <td>631,96 €</td>\n",
       "      <td>7.851410</td>\n",
       "    </tr>\n",
       "    <tr>\n",
       "      <th>394</th>\n",
       "      <td>20211110_0500</td>\n",
       "      <td>Marzahn-Hellersdorf</td>\n",
       "      <td>Erstbezug Neubau - Wohnung ausschließlich für ...</td>\n",
       "      <td>3 Zimmer</td>\n",
       "      <td>71.72</td>\n",
       "      <td>Ludwig-Renn-Straße 56 | 12679 Berlin</td>\n",
       "      <td>742,03 €</td>\n",
       "      <td>10.346207</td>\n",
       "    </tr>\n",
       "    <tr>\n",
       "      <th>395</th>\n",
       "      <td>20211110_0500</td>\n",
       "      <td>Marzahn-Hellersdorf</td>\n",
       "      <td>Erstbezug Neubau - Wohnung ausschließlich für ...</td>\n",
       "      <td>3 Zimmer</td>\n",
       "      <td>76.07</td>\n",
       "      <td>Ludwig-Renn-Straße 56 | 12679 Berlin</td>\n",
       "      <td>750,00 €</td>\n",
       "      <td>9.859340</td>\n",
       "    </tr>\n",
       "    <tr>\n",
       "      <th>409</th>\n",
       "      <td>20211110_1800</td>\n",
       "      <td>Treptow-Köpenick</td>\n",
       "      <td>Dachgeschoßwohnung im sanierten Altbau</td>\n",
       "      <td>3 Zimmer</td>\n",
       "      <td>76.44</td>\n",
       "      <td>Bölschestraße 57 | 12587 Berlin</td>\n",
       "      <td>812,58 €</td>\n",
       "      <td>10.630298</td>\n",
       "    </tr>\n",
       "    <tr>\n",
       "      <th>411</th>\n",
       "      <td>20211110_1830</td>\n",
       "      <td>Treptow-Köpenick</td>\n",
       "      <td>Dachgeschoßwohnung im sanierten Altbau</td>\n",
       "      <td>3 Zimmer</td>\n",
       "      <td>76.44</td>\n",
       "      <td>Bölschestraße 57 | 12587 Berlin</td>\n",
       "      <td>812,58 €</td>\n",
       "      <td>10.630298</td>\n",
       "    </tr>\n",
       "  </tbody>\n",
       "</table>\n",
       "<p>71 rows × 8 columns</p>\n",
       "</div>"
      ],
      "text/plain": [
       "    collection_timestamp neighborhood.district  \\\n",
       "26         20211031_2106  Tempelhof-Schöneberg   \n",
       "32         20211031_2106   Marzahn-Hellersdorf   \n",
       "33         20211031_2106   Marzahn-Hellersdorf   \n",
       "41         20211031_2106   Steglitz-Zehlendorf   \n",
       "42         20211031_2106  Tempelhof-Schöneberg   \n",
       "..                   ...                   ...   \n",
       "389        20211110_0400   Marzahn-Hellersdorf   \n",
       "394        20211110_0500   Marzahn-Hellersdorf   \n",
       "395        20211110_0500   Marzahn-Hellersdorf   \n",
       "409        20211110_1800      Treptow-Köpenick   \n",
       "411        20211110_1830      Treptow-Köpenick   \n",
       "\n",
       "                                              headline number_of_rooms  \\\n",
       "26              Schöne 3-Zimmer Wohnung sucht Familie!        3 Zimmer   \n",
       "32   Erstbezug Neubau - Wohnung ausschließlich für ...        3 Zimmer   \n",
       "33   Erstbezug Neubau - Wohnung ausschließlich für ...        3 Zimmer   \n",
       "41            Großzügige 3-Zimmer-Wohnung im Erstbezug        3 Zimmer   \n",
       "42                  Schöne Wohnung sucht Studenten-WG!        3 Zimmer   \n",
       "..                                                 ...             ...   \n",
       "389           Familienwohnung ganz oben - ohne Aufzug!        4 Zimmer   \n",
       "394  Erstbezug Neubau - Wohnung ausschließlich für ...        3 Zimmer   \n",
       "395  Erstbezug Neubau - Wohnung ausschließlich für ...        3 Zimmer   \n",
       "409             Dachgeschoßwohnung im sanierten Altbau        3 Zimmer   \n",
       "411             Dachgeschoßwohnung im sanierten Altbau        3 Zimmer   \n",
       "\n",
       "     living_space                          full_address rent_total_with_vat  \\\n",
       "26          75.72     Pechsteinstraße 64 | 12309 Berlin            655,73 €   \n",
       "32          71.72  Ludwig-Renn-Straße 56 | 12679 Berlin            742,03 €   \n",
       "33          76.07  Ludwig-Renn-Straße 56 | 12679 Berlin            750,00 €   \n",
       "41          84.49       Retzowstraße 54E | 12249 Berlin          1.056,13 €   \n",
       "42         102.11     Dominicusstraße 39 | 10827 Berlin          1.074,52 €   \n",
       "..            ...                                   ...                 ...   \n",
       "389         80.49    Blumberger Damm 204 | 12679 Berlin            631,96 €   \n",
       "394         71.72  Ludwig-Renn-Straße 56 | 12679 Berlin            742,03 €   \n",
       "395         76.07  Ludwig-Renn-Straße 56 | 12679 Berlin            750,00 €   \n",
       "409         76.44       Bölschestraße 57 | 12587 Berlin            812,58 €   \n",
       "411         76.44       Bölschestraße 57 | 12587 Berlin            812,58 €   \n",
       "\n",
       "     price_per_sqm  \n",
       "26        8.659931  \n",
       "32       10.346207  \n",
       "33        9.859340  \n",
       "41       12.500059  \n",
       "42       10.523161  \n",
       "..             ...  \n",
       "389       7.851410  \n",
       "394      10.346207  \n",
       "395       9.859340  \n",
       "409      10.630298  \n",
       "411      10.630298  \n",
       "\n",
       "[71 rows x 8 columns]"
      ]
     },
     "execution_count": 6,
     "metadata": {},
     "output_type": "execute_result"
    }
   ],
   "source": [
    "df.query(\"(wbs_required == False) & (living_space > 70)\")[[\"collection_timestamp\",\"neighborhood.district\",\"headline\",\"number_of_rooms\",\"living_space\",\"full_address\",\"rent_total_with_vat\",\"price_per_sqm\"]]"
   ]
  },
  {
   "cell_type": "code",
   "execution_count": null,
   "id": "numerous-consumer",
   "metadata": {
    "papermill": {
     "duration": 0.064329,
     "end_time": "2021-11-10T19:30:12.702203",
     "exception": false,
     "start_time": "2021-11-10T19:30:12.637874",
     "status": "completed"
    },
    "tags": []
   },
   "outputs": [],
   "source": []
  }
 ],
 "metadata": {
  "kernelspec": {
   "display_name": "Python 3",
   "language": "python",
   "name": "python3"
  },
  "language_info": {
   "codemirror_mode": {
    "name": "ipython",
    "version": 3
   },
   "file_extension": ".py",
   "mimetype": "text/x-python",
   "name": "python",
   "nbconvert_exporter": "python",
   "pygments_lexer": "ipython3",
   "version": "3.9.5"
  },
  "papermill": {
   "default_parameters": {},
   "duration": 6.976904,
   "end_time": "2021-11-10T19:30:13.492028",
   "environment_variables": {},
   "exception": null,
   "input_path": "scratchfile.ipynb",
   "output_path": "scratchfile.ipynb",
   "parameters": {},
   "start_time": "2021-11-10T19:30:06.515124",
   "version": "2.3.3"
  }
 },
 "nbformat": 4,
 "nbformat_minor": 5
}