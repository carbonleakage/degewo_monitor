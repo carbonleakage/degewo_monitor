{
 "cells": [
  {
   "cell_type": "code",
   "execution_count": 1,
   "id": "commercial-return",
   "metadata": {
    "execution": {
     "iopub.execute_input": "2021-11-12T13:30:09.975076Z",
     "iopub.status.busy": "2021-11-12T13:30:09.972782Z",
     "iopub.status.idle": "2021-11-12T13:30:11.281734Z",
     "shell.execute_reply": "2021-11-12T13:30:11.283385Z"
    },
    "papermill": {
     "duration": 1.37738,
     "end_time": "2021-11-12T13:30:11.284079",
     "exception": false,
     "start_time": "2021-11-12T13:30:09.906699",
     "status": "completed"
    },
    "tags": []
   },
   "outputs": [],
   "source": [
    "import pandas as pd"
   ]
  },
  {
   "cell_type": "code",
   "execution_count": 2,
   "id": "dietary-notebook",
   "metadata": {
    "execution": {
     "iopub.execute_input": "2021-11-12T13:30:11.421894Z",
     "iopub.status.busy": "2021-11-12T13:30:11.418460Z",
     "iopub.status.idle": "2021-11-12T13:30:11.564675Z",
     "shell.execute_reply": "2021-11-12T13:30:11.566170Z"
    },
    "papermill": {
     "duration": 0.21987,
     "end_time": "2021-11-12T13:30:11.566648",
     "exception": false,
     "start_time": "2021-11-12T13:30:11.346778",
     "status": "completed"
    },
    "tags": []
   },
   "outputs": [],
   "source": [
    "df = pd.read_parquet(\"extract.parquet.gzip\")"
   ]
  },
  {
   "cell_type": "code",
   "execution_count": 3,
   "id": "municipal-accreditation",
   "metadata": {
    "execution": {
     "iopub.execute_input": "2021-11-12T13:30:11.697453Z",
     "iopub.status.busy": "2021-11-12T13:30:11.695067Z",
     "iopub.status.idle": "2021-11-12T13:30:11.768080Z",
     "shell.execute_reply": "2021-11-12T13:30:11.761818Z"
    },
    "papermill": {
     "duration": 0.145863,
     "end_time": "2021-11-12T13:30:11.772080",
     "exception": false,
     "start_time": "2021-11-12T13:30:11.626217",
     "status": "completed"
    },
    "tags": []
   },
   "outputs": [
    {
     "data": {
      "text/plain": [
       "20211031_2106    46\n",
       "20211101_1100     1\n",
       "20211101_1200     2\n",
       "20211101_1300     1\n",
       "20211101_1330     2\n",
       "                 ..\n",
       "20211111_1430     5\n",
       "20211111_1600     1\n",
       "20211111_1630     1\n",
       "20211112_0930     1\n",
       "20211112_1230     1\n",
       "Name: collection_timestamp, Length: 76, dtype: int64"
      ]
     },
     "execution_count": 3,
     "metadata": {},
     "output_type": "execute_result"
    }
   ],
   "source": [
    "df[\"collection_timestamp\"].value_counts().sort_index()"
   ]
  },
  {
   "cell_type": "code",
   "execution_count": 4,
   "id": "specialized-algorithm",
   "metadata": {
    "execution": {
     "iopub.execute_input": "2021-11-12T13:30:11.971722Z",
     "iopub.status.busy": "2021-11-12T13:30:11.956263Z",
     "iopub.status.idle": "2021-11-12T13:30:11.998386Z",
     "shell.execute_reply": "2021-11-12T13:30:11.996123Z"
    },
    "papermill": {
     "duration": 0.137424,
     "end_time": "2021-11-12T13:30:11.998876",
     "exception": false,
     "start_time": "2021-11-12T13:30:11.861452",
     "status": "completed"
    },
    "tags": []
   },
   "outputs": [
    {
     "name": "stderr",
     "output_type": "stream",
     "text": [
      "/tmp/ipykernel_165628/1121883873.py:1: FutureWarning: The default value of regex will change from True to False in a future version. In addition, single character regular expressions will *not* be treated as literal strings when regex=True.\n",
      "  df[\"price_per_sqm\"] =  df[\"rent_total_with_vat\"].str[:-2].str.replace(\".\",\"\").str.replace(\",\",\".\").astype(\"float\")/df[\"living_space\"]\n"
     ]
    }
   ],
   "source": [
    "df[\"price_per_sqm\"] =  df[\"rent_total_with_vat\"].str[:-2].str.replace(\".\",\"\").str.replace(\",\",\".\").astype(\"float\")/df[\"living_space\"]"
   ]
  },
  {
   "cell_type": "code",
   "execution_count": 5,
   "id": "powerful-coral",
   "metadata": {
    "execution": {
     "iopub.execute_input": "2021-11-12T13:30:12.170546Z",
     "iopub.status.busy": "2021-11-12T13:30:12.153590Z",
     "iopub.status.idle": "2021-11-12T13:30:12.287183Z",
     "shell.execute_reply": "2021-11-12T13:30:12.289611Z"
    },
    "papermill": {
     "duration": 0.226577,
     "end_time": "2021-11-12T13:30:12.290307",
     "exception": false,
     "start_time": "2021-11-12T13:30:12.063730",
     "status": "completed"
    },
    "tags": []
   },
   "outputs": [
    {
     "data": {
      "text/plain": [
       "Marzahn-Hellersdorf     9\n",
       "Steglitz-Zehlendorf     6\n",
       "Neukölln                4\n",
       "Tempelhof-Schöneberg    2\n",
       "Umland                  1\n",
       "Mitte                   1\n",
       "Treptow-Köpenick        1\n",
       "Name: neighborhood.district, dtype: int64"
      ]
     },
     "execution_count": 5,
     "metadata": {},
     "output_type": "execute_result"
    }
   ],
   "source": [
    "df.query(\"(wbs_required == False) & (living_space > 70)\")[\"neighborhood.district\"].value_counts()"
   ]
  },
  {
   "cell_type": "code",
   "execution_count": 6,
   "id": "0c8bd5fd",
   "metadata": {
    "execution": {
     "iopub.execute_input": "2021-11-12T13:30:12.490142Z",
     "iopub.status.busy": "2021-11-12T13:30:12.487428Z",
     "iopub.status.idle": "2021-11-12T13:30:12.589034Z",
     "shell.execute_reply": "2021-11-12T13:30:12.591285Z"
    },
    "papermill": {
     "duration": 0.212732,
     "end_time": "2021-11-12T13:30:12.592169",
     "exception": false,
     "start_time": "2021-11-12T13:30:12.379437",
     "status": "completed"
    },
    "tags": []
   },
   "outputs": [
    {
     "data": {
      "text/html": [
       "<div>\n",
       "<style scoped>\n",
       "    .dataframe tbody tr th:only-of-type {\n",
       "        vertical-align: middle;\n",
       "    }\n",
       "\n",
       "    .dataframe tbody tr th {\n",
       "        vertical-align: top;\n",
       "    }\n",
       "\n",
       "    .dataframe thead th {\n",
       "        text-align: right;\n",
       "    }\n",
       "</style>\n",
       "<table border=\"1\" class=\"dataframe\">\n",
       "  <thead>\n",
       "    <tr style=\"text-align: right;\">\n",
       "      <th></th>\n",
       "      <th>id</th>\n",
       "      <th>collection_timestamp</th>\n",
       "      <th>neighborhood.district</th>\n",
       "      <th>headline</th>\n",
       "      <th>number_of_rooms</th>\n",
       "      <th>living_space</th>\n",
       "      <th>full_address</th>\n",
       "      <th>rent_total_with_vat</th>\n",
       "      <th>price_per_sqm</th>\n",
       "    </tr>\n",
       "  </thead>\n",
       "  <tbody>\n",
       "    <tr>\n",
       "      <th>41</th>\n",
       "      <td>W1150-00427-0177-0304</td>\n",
       "      <td>20211031_2106</td>\n",
       "      <td>Steglitz-Zehlendorf</td>\n",
       "      <td>Großzügige 3-Zimmer-Wohnung im Erstbezug</td>\n",
       "      <td>3 Zimmer</td>\n",
       "      <td>84.49</td>\n",
       "      <td>Retzowstraße 54E | 12249 Berlin</td>\n",
       "      <td>1.056,13 €</td>\n",
       "      <td>12.500059</td>\n",
       "    </tr>\n",
       "    <tr>\n",
       "      <th>43</th>\n",
       "      <td>W1150-00427-0186-0201</td>\n",
       "      <td>20211031_2106</td>\n",
       "      <td>Steglitz-Zehlendorf</td>\n",
       "      <td>Familienwohnung - Erstbezug</td>\n",
       "      <td>4 Zimmer</td>\n",
       "      <td>96.60</td>\n",
       "      <td>Retzowstraße 54D | 12249 Berlin</td>\n",
       "      <td>1.207,50 €</td>\n",
       "      <td>12.500000</td>\n",
       "    </tr>\n",
       "    <tr>\n",
       "      <th>44</th>\n",
       "      <td>W1150-00427-0206-0403</td>\n",
       "      <td>20211031_2106</td>\n",
       "      <td>Steglitz-Zehlendorf</td>\n",
       "      <td>Großzügige 3 Zimmer-Wohnung im Neubau</td>\n",
       "      <td>3 Zimmer</td>\n",
       "      <td>84.35</td>\n",
       "      <td>Retzowstraße 54A | 12249 Berlin</td>\n",
       "      <td>1.223,08 €</td>\n",
       "      <td>14.500059</td>\n",
       "    </tr>\n",
       "    <tr>\n",
       "      <th>191</th>\n",
       "      <td>W1150-00427-0001-0101</td>\n",
       "      <td>20211104_1130</td>\n",
       "      <td>Steglitz-Zehlendorf</td>\n",
       "      <td>3-Zimmer-Wohnung im Erdgeschoss - Erstbezug</td>\n",
       "      <td>3 Zimmer</td>\n",
       "      <td>86.43</td>\n",
       "      <td>Dessauer Straße 39 | 12249 Berlin</td>\n",
       "      <td>1.253,24 €</td>\n",
       "      <td>14.500058</td>\n",
       "    </tr>\n",
       "    <tr>\n",
       "      <th>345</th>\n",
       "      <td>W1150-00442-0058-0302</td>\n",
       "      <td>20211108_1500</td>\n",
       "      <td>Steglitz-Zehlendorf</td>\n",
       "      <td>Große 3 Zimmer Wohnung mit Balkon</td>\n",
       "      <td>3 Zimmer</td>\n",
       "      <td>93.50</td>\n",
       "      <td>Lloyd-G.-Wells-Straße 14 | 14163 Berlin</td>\n",
       "      <td>1.257,99 €</td>\n",
       "      <td>13.454439</td>\n",
       "    </tr>\n",
       "    <tr>\n",
       "      <th>379</th>\n",
       "      <td>W1150-00427-0207-0503</td>\n",
       "      <td>20211109_1530</td>\n",
       "      <td>Steglitz-Zehlendorf</td>\n",
       "      <td>Großzügige Familienwohnung in Lankwitz - Erstb...</td>\n",
       "      <td>5 Zimmer</td>\n",
       "      <td>126.37</td>\n",
       "      <td>Retzowstraße 54A | 12249 Berlin</td>\n",
       "      <td>1.863,96 €</td>\n",
       "      <td>14.750020</td>\n",
       "    </tr>\n",
       "  </tbody>\n",
       "</table>\n",
       "</div>"
      ],
      "text/plain": [
       "                        id collection_timestamp neighborhood.district  \\\n",
       "41   W1150-00427-0177-0304        20211031_2106   Steglitz-Zehlendorf   \n",
       "43   W1150-00427-0186-0201        20211031_2106   Steglitz-Zehlendorf   \n",
       "44   W1150-00427-0206-0403        20211031_2106   Steglitz-Zehlendorf   \n",
       "191  W1150-00427-0001-0101        20211104_1130   Steglitz-Zehlendorf   \n",
       "345  W1150-00442-0058-0302        20211108_1500   Steglitz-Zehlendorf   \n",
       "379  W1150-00427-0207-0503        20211109_1530   Steglitz-Zehlendorf   \n",
       "\n",
       "                                              headline number_of_rooms  \\\n",
       "41            Großzügige 3-Zimmer-Wohnung im Erstbezug        3 Zimmer   \n",
       "43                         Familienwohnung - Erstbezug        4 Zimmer   \n",
       "44               Großzügige 3 Zimmer-Wohnung im Neubau        3 Zimmer   \n",
       "191        3-Zimmer-Wohnung im Erdgeschoss - Erstbezug        3 Zimmer   \n",
       "345                  Große 3 Zimmer Wohnung mit Balkon        3 Zimmer   \n",
       "379  Großzügige Familienwohnung in Lankwitz - Erstb...        5 Zimmer   \n",
       "\n",
       "     living_space                             full_address  \\\n",
       "41          84.49          Retzowstraße 54E | 12249 Berlin   \n",
       "43          96.60          Retzowstraße 54D | 12249 Berlin   \n",
       "44          84.35          Retzowstraße 54A | 12249 Berlin   \n",
       "191         86.43        Dessauer Straße 39 | 12249 Berlin   \n",
       "345         93.50  Lloyd-G.-Wells-Straße 14 | 14163 Berlin   \n",
       "379        126.37          Retzowstraße 54A | 12249 Berlin   \n",
       "\n",
       "    rent_total_with_vat  price_per_sqm  \n",
       "41           1.056,13 €      12.500059  \n",
       "43           1.207,50 €      12.500000  \n",
       "44           1.223,08 €      14.500059  \n",
       "191          1.253,24 €      14.500058  \n",
       "345          1.257,99 €      13.454439  \n",
       "379          1.863,96 €      14.750020  "
      ]
     },
     "execution_count": 6,
     "metadata": {},
     "output_type": "execute_result"
    }
   ],
   "source": [
    "df.query(\"(wbs_required == False) & (living_space > 70) & (`neighborhood.district` == 'Steglitz-Zehlendorf')\")[[\"id\",\"collection_timestamp\",\"neighborhood.district\",\"headline\",\"number_of_rooms\",\"living_space\",\"full_address\",\"rent_total_with_vat\",\"price_per_sqm\"]]"
   ]
  },
  {
   "cell_type": "code",
   "execution_count": null,
   "id": "03ed882a",
   "metadata": {
    "papermill": {
     "duration": 0.106153,
     "end_time": "2021-11-12T13:30:12.815419",
     "exception": false,
     "start_time": "2021-11-12T13:30:12.709266",
     "status": "completed"
    },
    "tags": []
   },
   "outputs": [],
   "source": []
  }
 ],
 "metadata": {
  "kernelspec": {
   "display_name": "Python 3",
   "language": "python",
   "name": "python3"
  },
  "language_info": {
   "codemirror_mode": {
    "name": "ipython",
    "version": 3
   },
   "file_extension": ".py",
   "mimetype": "text/x-python",
   "name": "python",
   "nbconvert_exporter": "python",
   "pygments_lexer": "ipython3",
   "version": "3.9.5"
  },
  "papermill": {
   "default_parameters": {},
   "duration": 7.751013,
   "end_time": "2021-11-12T13:30:13.786814",
   "environment_variables": {},
   "exception": null,
   "input_path": "scratchfile.ipynb",
   "output_path": "scratchfile.ipynb",
   "parameters": {},
   "start_time": "2021-11-12T13:30:06.035801",
   "version": "2.3.3"
  }
 },
 "nbformat": 4,
 "nbformat_minor": 5
}